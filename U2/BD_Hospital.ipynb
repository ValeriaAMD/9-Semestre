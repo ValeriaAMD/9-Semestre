{
 "cells": [
  {
   "cell_type": "code",
   "execution_count": 1,
   "id": "9d77fa1a",
   "metadata": {},
   "outputs": [],
   "source": [
    "import pandas as pd\n",
    "import pyodbc"
   ]
  },
  {
   "cell_type": "code",
   "execution_count": 2,
   "id": "082eef7a",
   "metadata": {},
   "outputs": [],
   "source": [
    "df1= pd.read_csv(r'C:\\Users\\caroc\\Untitled Folder\\Apuntes\\Procesamiento a\\recetas\\Analisis.csv', encoding='latin-1')\n"
   ]
  },
  {
   "cell_type": "code",
   "execution_count": 3,
   "id": "733e380a",
   "metadata": {},
   "outputs": [],
   "source": [
    "df2= pd.read_csv(r'C:\\Users\\caroc\\Untitled Folder\\Apuntes\\Procesamiento a\\recetas\\Consultorio.csv', encoding='latin-1')"
   ]
  },
  {
   "cell_type": "code",
   "execution_count": 4,
   "id": "69f8a23e",
   "metadata": {},
   "outputs": [],
   "source": [
    "\n",
    "df3= pd.read_csv(r'C:\\Users\\caroc\\Untitled Folder\\Apuntes\\Procesamiento a\\recetas\\Doctores.csv', encoding='latin-1')\n"
   ]
  },
  {
   "cell_type": "code",
   "execution_count": 13,
   "id": "caeee76e",
   "metadata": {},
   "outputs": [],
   "source": [
    "df4= pd.read_csv(r'C:\\Users\\caroc\\Untitled Folder\\Apuntes\\Procesamiento a\\recetas\\Paciente.csv', encoding='latin-1')\n"
   ]
  },
  {
   "cell_type": "code",
   "execution_count": 6,
   "id": "0bdcd0a7",
   "metadata": {},
   "outputs": [
    {
     "name": "stdout",
     "output_type": "stream",
     "text": [
      "<class 'pandas.core.frame.DataFrame'>\n",
      "RangeIndex: 15 entries, 0 to 14\n",
      "Data columns (total 3 columns):\n",
      " #   Column   Non-Null Count  Dtype \n",
      "---  ------   --------------  ----- \n",
      " 0   Tipo     15 non-null     object\n",
      " 1   fecha    15 non-null     object\n",
      " 2   horario  15 non-null     object\n",
      "dtypes: object(3)\n",
      "memory usage: 492.0+ bytes\n"
     ]
    }
   ],
   "source": [
    "df1.info()"
   ]
  },
  {
   "cell_type": "code",
   "execution_count": 7,
   "id": "86db41ba",
   "metadata": {},
   "outputs": [
    {
     "name": "stdout",
     "output_type": "stream",
     "text": [
      "<class 'pandas.core.frame.DataFrame'>\n",
      "RangeIndex: 50 entries, 0 to 49\n",
      "Data columns (total 2 columns):\n",
      " #   Column  Non-Null Count  Dtype\n",
      "---  ------  --------------  -----\n",
      " 0   numero  50 non-null     int64\n",
      " 1   piso    50 non-null     int64\n",
      "dtypes: int64(2)\n",
      "memory usage: 932.0 bytes\n"
     ]
    }
   ],
   "source": [
    "df2.info()"
   ]
  },
  {
   "cell_type": "code",
   "execution_count": 8,
   "id": "aefdb7b9",
   "metadata": {},
   "outputs": [
    {
     "name": "stdout",
     "output_type": "stream",
     "text": [
      "<class 'pandas.core.frame.DataFrame'>\n",
      "RangeIndex: 199 entries, 0 to 198\n",
      "Data columns (total 5 columns):\n",
      " #   Column        Non-Null Count  Dtype \n",
      "---  ------        --------------  ----- \n",
      " 0   nombres       199 non-null    object\n",
      " 1   apellidos     199 non-null    object\n",
      " 2   especialidad  199 non-null    object\n",
      " 3   edad          199 non-null    int64 \n",
      " 4   telefono      199 non-null    int64 \n",
      "dtypes: int64(2), object(3)\n",
      "memory usage: 7.9+ KB\n"
     ]
    }
   ],
   "source": [
    "df3.info()"
   ]
  },
  {
   "cell_type": "code",
   "execution_count": 14,
   "id": "b0457d89",
   "metadata": {},
   "outputs": [
    {
     "name": "stdout",
     "output_type": "stream",
     "text": [
      "<class 'pandas.core.frame.DataFrame'>\n",
      "RangeIndex: 501 entries, 0 to 500\n",
      "Data columns (total 5 columns):\n",
      " #   Column     Non-Null Count  Dtype \n",
      "---  ------     --------------  ----- \n",
      " 0   nombres    501 non-null    object\n",
      " 1   apellidos  501 non-null    object\n",
      " 2   edad       501 non-null    int64 \n",
      " 3   telefono   501 non-null    int64 \n",
      " 4   direc      501 non-null    object\n",
      "dtypes: int64(2), object(3)\n",
      "memory usage: 19.7+ KB\n"
     ]
    }
   ],
   "source": [
    "df4.info()"
   ]
  },
  {
   "cell_type": "code",
   "execution_count": 35,
   "id": "93237614",
   "metadata": {},
   "outputs": [],
   "source": [
    "conn = pyodbc.connect(driver='{SQL Server}', server='(local)', database='Hospital', trusted_connection='yes') "
   ]
  },
  {
   "cell_type": "code",
   "execution_count": 36,
   "id": "fb587569",
   "metadata": {},
   "outputs": [],
   "source": [
    "cursor = conn.cursor()"
   ]
  },
  {
   "cell_type": "code",
   "execution_count": 19,
   "id": "9329596b",
   "metadata": {},
   "outputs": [],
   "source": [
    "for index, rows in df3.iterrows():\n",
    "    insert = \"\"\"INSERT INTO [dbo].[Dim_Doctor]\n",
    "           ([nombres]\n",
    "           ,[apellidos]\n",
    "           ,[especialidad]\n",
    "           ,[edad]\n",
    "           ,[telefono])\n",
    "     VALUES\n",
    "           ('{a}', '{b}', '{c}', {d}, {e})\n",
    "           \"\"\".format(a= rows['nombres'],\n",
    "                     b= rows['apellidos'],\n",
    "                     c= rows['especialidad'],\n",
    "                     d= rows['edad'],\n",
    "                     e= rows['telefono'])\n",
    "    \n",
    "    try:\n",
    "        cursor.execute(insert)\n",
    "    except:\n",
    "        print(insert)\n",
    "        break\n",
    "\n",
    "conn.commit()\n",
    "conn.close()"
   ]
  },
  {
   "cell_type": "code",
   "execution_count": 17,
   "id": "ec38127a",
   "metadata": {},
   "outputs": [],
   "source": [
    "for index, rows in df4.iterrows():\n",
    "    insert = \"\"\"INSERT INTO [dbo].[Dim_Paciente]\n",
    "           ([nombres]\n",
    "          ,[apellidos]\n",
    "          ,[edad]\n",
    "          ,[telefono]\n",
    "          ,[direccion])\n",
    "     VALUES\n",
    "           ('{a}', '{b}', {c}, {d}, '{e}')\n",
    "           \"\"\".format(a= rows['nombres'],\n",
    "                     b= rows['apellidos'],\n",
    "                     c= rows['edad'],\n",
    "                     d= rows['telefono'],\n",
    "                     e= rows['direc'])\n",
    "    \n",
    "    try:\n",
    "        cursor.execute(insert)\n",
    "    except:\n",
    "        print(insert)\n",
    "        break\n",
    "\n",
    "conn.commit()\n",
    "conn.close()"
   ]
  },
  {
   "cell_type": "code",
   "execution_count": 40,
   "id": "89d3c854",
   "metadata": {},
   "outputs": [
    {
     "data": {
      "text/html": [
       "<div>\n",
       "<style scoped>\n",
       "    .dataframe tbody tr th:only-of-type {\n",
       "        vertical-align: middle;\n",
       "    }\n",
       "\n",
       "    .dataframe tbody tr th {\n",
       "        vertical-align: top;\n",
       "    }\n",
       "\n",
       "    .dataframe thead th {\n",
       "        text-align: right;\n",
       "    }\n",
       "</style>\n",
       "<table border=\"1\" class=\"dataframe\">\n",
       "  <thead>\n",
       "    <tr style=\"text-align: right;\">\n",
       "      <th></th>\n",
       "      <th>nombres</th>\n",
       "      <th>apellidos</th>\n",
       "      <th>edad</th>\n",
       "      <th>telefono</th>\n",
       "      <th>direccion</th>\n",
       "    </tr>\n",
       "  </thead>\n",
       "  <tbody>\n",
       "    <tr>\n",
       "      <th>0</th>\n",
       "      <td>Liam</td>\n",
       "      <td>rodriguez</td>\n",
       "      <td>23</td>\n",
       "      <td>2345678912</td>\n",
       "      <td>123 calle principal</td>\n",
       "    </tr>\n",
       "    <tr>\n",
       "      <th>1</th>\n",
       "      <td>emma</td>\n",
       "      <td>García</td>\n",
       "      <td>23</td>\n",
       "      <td>1234567849</td>\n",
       "      <td>456 Avenida Elm</td>\n",
       "    </tr>\n",
       "    <tr>\n",
       "      <th>2</th>\n",
       "      <td>Noé</td>\n",
       "      <td>López</td>\n",
       "      <td>44</td>\n",
       "      <td>2345678903</td>\n",
       "      <td>789 Roble Lane</td>\n",
       "    </tr>\n",
       "    <tr>\n",
       "      <th>3</th>\n",
       "      <td>Olivia</td>\n",
       "      <td>Martínez</td>\n",
       "      <td>45</td>\n",
       "      <td>4567890375</td>\n",
       "      <td>321 calle pino</td>\n",
       "    </tr>\n",
       "    <tr>\n",
       "      <th>4</th>\n",
       "      <td>Guillermo</td>\n",
       "      <td>hernandez</td>\n",
       "      <td>65</td>\n",
       "      <td>4567890167</td>\n",
       "      <td>Unidad de arce 654</td>\n",
       "    </tr>\n",
       "  </tbody>\n",
       "</table>\n",
       "</div>"
      ],
      "text/plain": [
       "     nombres   apellidos  edad    telefono           direccion \n",
       "0       Liam   rodriguez    23  2345678912  123 calle principal\n",
       "1       emma      García    23  1234567849      456 Avenida Elm\n",
       "2        Noé       López    44  2345678903       789 Roble Lane\n",
       "3     Olivia    Martínez    45  4567890375       321 calle pino\n",
       "4  Guillermo   hernandez    65  4567890167   Unidad de arce 654"
      ]
     },
     "execution_count": 40,
     "metadata": {},
     "output_type": "execute_result"
    }
   ],
   "source": [
    "df4.head()"
   ]
  },
  {
   "cell_type": "code",
   "execution_count": 33,
   "id": "3e11fee0",
   "metadata": {},
   "outputs": [],
   "source": [
    "df5= pd.read_csv(r'C:\\Users\\caroc\\Untitled Folder\\Apuntes\\Procesamiento a\\recetas\\H_Recetas.csv', encoding='latin-1')"
   ]
  },
  {
   "cell_type": "code",
   "execution_count": 34,
   "id": "9d447eb5",
   "metadata": {},
   "outputs": [
    {
     "name": "stdout",
     "output_type": "stream",
     "text": [
      "<class 'pandas.core.frame.DataFrame'>\n",
      "RangeIndex: 499 entries, 0 to 498\n",
      "Data columns (total 7 columns):\n",
      " #   Column          Non-Null Count  Dtype \n",
      "---  ------          --------------  ----- \n",
      " 0   id_doctor       499 non-null    int64 \n",
      " 1   id_analisis     499 non-null    int64 \n",
      " 2   id_paciente     499 non-null    int64 \n",
      " 3   id_consultorio  499 non-null    int64 \n",
      " 4   medicamento     499 non-null    object\n",
      " 5   farmacia        499 non-null    int64 \n",
      " 6   total_pagar     499 non-null    int64 \n",
      "dtypes: int64(6), object(1)\n",
      "memory usage: 27.4+ KB\n"
     ]
    }
   ],
   "source": [
    "df5.info()"
   ]
  },
  {
   "cell_type": "code",
   "execution_count": 37,
   "id": "38a4bcb6",
   "metadata": {},
   "outputs": [],
   "source": [
    "for index, rows in df5.iterrows():\n",
    "    insert = \"\"\"INSERT INTO [dbo].[Hecho_Receta]\n",
    "           ([id_doctor]\n",
    "          ,[id_analisis]\n",
    "          ,[id_paciente]\n",
    "          ,[id_consultorio]\n",
    "          ,[medicamento]\n",
    "          ,[farmacia]\n",
    "          ,[total_pagar])\n",
    "     VALUES\n",
    "           ({a}, {b}, {c}, {d}, '{e}', {f}, {g})\n",
    "           \"\"\".format(a= rows['id_doctor'],\n",
    "                     b= rows['id_analisis'],\n",
    "                     c= rows['id_paciente'],\n",
    "                     d= rows['id_consultorio'],\n",
    "                     e= rows['medicamento'],\n",
    "                     f= rows['farmacia'],\n",
    "                     g= rows['total_pagar'])\n",
    "    \n",
    "    try:\n",
    "        cursor.execute(insert)\n",
    "    except:\n",
    "        print(insert)\n",
    "        break\n",
    "\n",
    "conn.commit()\n",
    "conn.close()"
   ]
  },
  {
   "cell_type": "code",
   "execution_count": null,
   "id": "ebb32723",
   "metadata": {},
   "outputs": [],
   "source": []
  }
 ],
 "metadata": {
  "kernelspec": {
   "display_name": "Python 3 (ipykernel)",
   "language": "python",
   "name": "python3"
  },
  "language_info": {
   "codemirror_mode": {
    "name": "ipython",
    "version": 3
   },
   "file_extension": ".py",
   "mimetype": "text/x-python",
   "name": "python",
   "nbconvert_exporter": "python",
   "pygments_lexer": "ipython3",
   "version": "3.11.4"
  }
 },
 "nbformat": 4,
 "nbformat_minor": 5
}
