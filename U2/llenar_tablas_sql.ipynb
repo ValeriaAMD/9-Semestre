{
 "cells": [
  {
   "cell_type": "code",
   "execution_count": 1,
   "id": "a24be7da",
   "metadata": {},
   "outputs": [],
   "source": [
    "import pandas as pd\n",
    "import pyodbc"
   ]
  },
  {
   "cell_type": "code",
   "execution_count": 3,
   "id": "c81fbe98",
   "metadata": {},
   "outputs": [],
   "source": [
    "df1= pd.read_csv(r'C:\\Users\\caroc\\Untitled Folder\\U2\\Artistas.csv', encoding='latin-1')\n",
    "df2= pd.read_csv(r'C:\\Users\\caroc\\Untitled Folder\\U2\\Apple_new.csv', encoding='latin-1')\n",
    "df3= pd.read_csv(r'C:\\Users\\caroc\\Untitled Folder\\U2\\Deezer_new.csv', encoding='latin-1')\n",
    "df4= pd.read_csv(r'C:\\Users\\caroc\\Untitled Folder\\U2\\Spotify_new.csv', encoding='latin-1')"
   ]
  },
  {
   "cell_type": "code",
   "execution_count": 8,
   "id": "723e824d",
   "metadata": {},
   "outputs": [
    {
     "name": "stdout",
     "output_type": "stream",
     "text": [
      "<class 'pandas.core.frame.DataFrame'>\n",
      "RangeIndex: 642 entries, 0 to 641\n",
      "Data columns (total 2 columns):\n",
      " #   Column      Non-Null Count  Dtype \n",
      "---  ------      --------------  ----- \n",
      " 0   id_artista  642 non-null    object\n",
      " 1   Artista     642 non-null    object\n",
      "dtypes: object(2)\n",
      "memory usage: 10.2+ KB\n"
     ]
    }
   ],
   "source": [
    "df1.info()"
   ]
  },
  {
   "cell_type": "code",
   "execution_count": 9,
   "id": "f4899aa8",
   "metadata": {},
   "outputs": [
    {
     "name": "stdout",
     "output_type": "stream",
     "text": [
      "<class 'pandas.core.frame.DataFrame'>\n",
      "RangeIndex: 902 entries, 0 to 901\n",
      "Data columns (total 5 columns):\n",
      " #   Column              Non-Null Count  Dtype \n",
      "---  ------              --------------  ----- \n",
      " 0   Unnamed: 0          902 non-null    int64 \n",
      " 1   in_apple_playlists  902 non-null    int64 \n",
      " 2   in_apple_charts     902 non-null    int64 \n",
      " 3   Artista             902 non-null    object\n",
      " 4   id_artista          902 non-null    int64 \n",
      "dtypes: int64(4), object(1)\n",
      "memory usage: 35.4+ KB\n"
     ]
    }
   ],
   "source": [
    "df2.info()"
   ]
  },
  {
   "cell_type": "code",
   "execution_count": 10,
   "id": "bf152938",
   "metadata": {},
   "outputs": [
    {
     "name": "stdout",
     "output_type": "stream",
     "text": [
      "<class 'pandas.core.frame.DataFrame'>\n",
      "RangeIndex: 566 entries, 0 to 565\n",
      "Data columns (total 5 columns):\n",
      " #   Column               Non-Null Count  Dtype \n",
      "---  ------               --------------  ----- \n",
      " 0   Unnamed: 0           566 non-null    int64 \n",
      " 1   Artista              566 non-null    object\n",
      " 2   in_deezer_playlists  566 non-null    int64 \n",
      " 3   in_deezer_charts     566 non-null    int64 \n",
      " 4   id_artista           566 non-null    int64 \n",
      "dtypes: int64(4), object(1)\n",
      "memory usage: 22.2+ KB\n"
     ]
    }
   ],
   "source": [
    "df3.info()"
   ]
  },
  {
   "cell_type": "code",
   "execution_count": 11,
   "id": "5d4dc143",
   "metadata": {},
   "outputs": [
    {
     "name": "stdout",
     "output_type": "stream",
     "text": [
      "<class 'pandas.core.frame.DataFrame'>\n",
      "RangeIndex: 902 entries, 0 to 901\n",
      "Data columns (total 5 columns):\n",
      " #   Column                Non-Null Count  Dtype \n",
      "---  ------                --------------  ----- \n",
      " 0   Unnamed: 0            902 non-null    int64 \n",
      " 1   Artista               902 non-null    object\n",
      " 2   in_spotify_playlists  902 non-null    int64 \n",
      " 3   in_spotify_charts     902 non-null    int64 \n",
      " 4   id_artista            902 non-null    int64 \n",
      "dtypes: int64(4), object(1)\n",
      "memory usage: 35.4+ KB\n"
     ]
    }
   ],
   "source": [
    "df4.info()"
   ]
  },
  {
   "cell_type": "code",
   "execution_count": 23,
   "id": "26d0f05b",
   "metadata": {},
   "outputs": [],
   "source": [
    "conn = pyodbc.connect(driver='{SQL Server}', server='(local)', database='chs&plys', trusted_connection='yes') "
   ]
  },
  {
   "cell_type": "code",
   "execution_count": 24,
   "id": "64fe79cc",
   "metadata": {},
   "outputs": [],
   "source": [
    "cursor = conn.cursor()"
   ]
  },
  {
   "cell_type": "code",
   "execution_count": 14,
   "id": "6f551baa",
   "metadata": {},
   "outputs": [
    {
     "name": "stdout",
     "output_type": "stream",
     "text": [
      "INSERT INTO [dbo].[Artistas]\n",
      "           ([id_artista]\n",
      "           ,[artista])\n",
      "     VALUES\n",
      "           (373,'Adassa, Mauro Castillo, Stephanie Beatriz, Encanto - Cast, Rhenzy Feliz, Diane Guerrero, Carolina Gaitan')\n",
      "           \n"
     ]
    }
   ],
   "source": [
    "for index, rows in df1.iterrows():\n",
    "    insert = \"\"\"INSERT INTO [dbo].[Artistas]\n",
    "           ([id_artista]\n",
    "           ,[artista])\n",
    "     VALUES\n",
    "           ({a},'{b}')\n",
    "           \"\"\".format(a= rows['id_artista'],\n",
    "                     b= rows['Artista'])\n",
    "    \n",
    "    try:\n",
    "        cursor.execute(insert)\n",
    "    except:\n",
    "        print(insert)\n",
    "        break\n",
    "conn.commit()\n",
    "conn.close()"
   ]
  },
  {
   "cell_type": "code",
   "execution_count": 18,
   "id": "f8085c48",
   "metadata": {},
   "outputs": [
    {
     "name": "stdout",
     "output_type": "stream",
     "text": [
      "INSERT INTO [dbo].[Apple]\n",
      "           ([in_apple_playlists]\n",
      "           ,[in_apple_charts]\n",
      "           ,[id_artista])\n",
      "     VALUES\n",
      "           (95,89,373)\n",
      "           \n"
     ]
    }
   ],
   "source": [
    "for index, rows in df2.iterrows():\n",
    "    insert = \"\"\"INSERT INTO [dbo].[Apple]\n",
    "           ([in_apple_playlists]\n",
    "           ,[in_apple_charts]\n",
    "           ,[id_artista])\n",
    "     VALUES\n",
    "           ({a},{b},{c})\n",
    "           \"\"\".format(a= rows['in_apple_playlists'],\n",
    "                     b= rows['in_apple_charts'],\n",
    "                     c= rows['id_artista'])\n",
    "    \n",
    "    try:\n",
    "        cursor.execute(insert)\n",
    "    except:\n",
    "        print(insert)\n",
    "        break\n",
    "conn.commit()\n",
    "conn.close()"
   ]
  },
  {
   "cell_type": "code",
   "execution_count": 22,
   "id": "ef0a13b0",
   "metadata": {},
   "outputs": [
    {
     "name": "stdout",
     "output_type": "stream",
     "text": [
      "INSERT INTO [dbo].[Deezer]\n",
      "           ([in_deezer_playlists]\n",
      "           ,[in_deezer_charts]\n",
      "           ,[id_artista])\n",
      "     VALUES\n",
      "           (965,20,374)\n",
      "           \n"
     ]
    }
   ],
   "source": [
    "for index, rows in df3.iterrows():\n",
    "    insert = \"\"\"INSERT INTO [dbo].[Deezer]\n",
    "           ([in_deezer_playlists]\n",
    "           ,[in_deezer_charts]\n",
    "           ,[id_artista])\n",
    "     VALUES\n",
    "           ({a},{b},{c})\n",
    "           \"\"\".format(a= rows['in_deezer_playlists'],\n",
    "                     b= rows['in_deezer_charts'],\n",
    "                     c= rows['id_artista'])\n",
    "    \n",
    "    try:\n",
    "        cursor.execute(insert)\n",
    "    except:\n",
    "        print(insert)\n",
    "        break\n",
    "conn.commit()\n",
    "conn.close()"
   ]
  },
  {
   "cell_type": "code",
   "execution_count": 25,
   "id": "9b2b6b74",
   "metadata": {},
   "outputs": [
    {
     "name": "stdout",
     "output_type": "stream",
     "text": [
      "INSERT INTO [dbo].[Spotify]\n",
      "           ([in_spotify_playlists]\n",
      "           ,[in_spotify_charts]\n",
      "           ,[id_artista])\n",
      "     VALUES\n",
      "           (2785,0,373)\n",
      "           \n"
     ]
    }
   ],
   "source": [
    "for index, rows in df4.iterrows():\n",
    "    insert = \"\"\"INSERT INTO [dbo].[Spotify]\n",
    "           ([in_spotify_playlists]\n",
    "           ,[in_spotify_charts]\n",
    "           ,[id_artista])\n",
    "     VALUES\n",
    "           ({a},{b},{c})\n",
    "           \"\"\".format(a= rows['in_spotify_playlists'],\n",
    "                     b= rows['in_spotify_charts'],\n",
    "                     c= rows['id_artista'])\n",
    "    \n",
    "    try:\n",
    "        cursor.execute(insert)\n",
    "    except:\n",
    "        print(insert)\n",
    "        break\n",
    "conn.commit()\n",
    "conn.close()"
   ]
  },
  {
   "cell_type": "code",
   "execution_count": null,
   "id": "02f40267",
   "metadata": {},
   "outputs": [],
   "source": []
  }
 ],
 "metadata": {
  "kernelspec": {
   "display_name": "Python 3 (ipykernel)",
   "language": "python",
   "name": "python3"
  },
  "language_info": {
   "codemirror_mode": {
    "name": "ipython",
    "version": 3
   },
   "file_extension": ".py",
   "mimetype": "text/x-python",
   "name": "python",
   "nbconvert_exporter": "python",
   "pygments_lexer": "ipython3",
   "version": "3.11.4"
  }
 },
 "nbformat": 4,
 "nbformat_minor": 5
}
