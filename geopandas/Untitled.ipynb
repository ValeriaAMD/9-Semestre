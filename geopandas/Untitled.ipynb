{
 "cells": [
  {
   "cell_type": "code",
   "execution_count": 1,
   "id": "8148b929",
   "metadata": {},
   "outputs": [],
   "source": [
    "import matplotlib.pyplot as plt\n",
    "from matplotlib import cm\n",
    "from matplotlib.colors import Normalize\n",
    "from mpl_toolkits.axes_grid1 import make_axes_locatable"
   ]
  },
  {
   "cell_type": "code",
   "execution_count": null,
   "id": "46ab2178",
   "metadata": {},
   "outputs": [],
   "source": [
    "import matplotlib.pyplot as plt\n",
    "from matplotlib import cm\n",
    "from matplotlib.colors import Normalize\n",
    "from mpl_toolkits.axes_grid1 import make_axes_locatable\n",
    "plt.rcParams['font.size'] = 55\n",
    "\n",
    "\n",
    "\n",
    "\n",
    "gdf=gpd.read_file('puntos_totales.shp')\n",
    "# Supongamos que tienes una columna llamada 'columna' con valores del 1 al 5\n",
    "valores = [0,1, 2, 3, 4]\n",
    "\n",
    "norm = Normalize(0,4)\n",
    "cmap_personalizado = cm.get_cmap('inferno')  # Puedes elegir otro mapa de colores según tus preferencias\n",
    "\n",
    "ax = gdf.plot(column='categoria', cmap=cmap_personalizado, norm=norm,figsize=(100,100))\n",
    "plt.title('Mapa con Cmap y Norm Personalizados')\n",
    "plt.xlabel('Longitud')\n",
    "plt.ylabel('Latitud')\n",
    "plt.legend()\n",
    "\n",
    "\n",
    "divider = make_axes_locatable(ax)\n",
    "cax = divider.append_axes(\"right\", size=\"4%\", pad=0.1)\n",
    "sm = plt.cm.ScalarMappable(cmap=cmap_personalizado, norm=norm)\n",
    "sm._A = []\n",
    "cbar = plt.colorbar(sm, cax=cax)\n",
    "\n",
    "\n",
    "# Cargar tu segundo GeoDataFrame\n",
    "gdf2 = gpd.read_file('division_mex_corregida.shp')\n",
    "\n",
    "# Plotear el segundo GeoDataFrame encima del primero con polígonos sin relleno y líneas negras\n",
    "gdf2.plot(ax=ax, facecolor='none', edgecolor='black',figsize=(100,100))\n",
    "\n",
    "# Mostrar el plot"
   ]
  }
 ],
 "metadata": {
  "kernelspec": {
   "display_name": "Python 3 (ipykernel)",
   "language": "python",
   "name": "python3"
  },
  "language_info": {
   "codemirror_mode": {
    "name": "ipython",
    "version": 3
   },
   "file_extension": ".py",
   "mimetype": "text/x-python",
   "name": "python",
   "nbconvert_exporter": "python",
   "pygments_lexer": "ipython3",
   "version": "3.7.16"
  }
 },
 "nbformat": 4,
 "nbformat_minor": 5
}
