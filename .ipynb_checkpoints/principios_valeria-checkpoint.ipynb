{
 "cells": [
  {
   "cell_type": "code",
   "execution_count": 4,
   "id": "5faefa91",
   "metadata": {},
   "outputs": [],
   "source": [
    "a=30\n",
    "b=20\n",
    "c=30.1"
   ]
  },
  {
   "cell_type": "code",
   "execution_count": 5,
   "id": "3cb331ec",
   "metadata": {},
   "outputs": [
    {
     "name": "stdout",
     "output_type": "stream",
     "text": [
      "30es mayor que 20\n"
     ]
    }
   ],
   "source": [
    "if a>b:\n",
    "    print ('{}es mayor que {}'.format(a,b))"
   ]
  },
  {
   "cell_type": "code",
   "execution_count": 7,
   "id": "1c37bb97",
   "metadata": {},
   "outputs": [
    {
     "name": "stdout",
     "output_type": "stream",
     "text": [
      "20noes mayor que 30\n"
     ]
    }
   ],
   "source": [
    "if a<b:\n",
    "    print ('{}es mayor que {}'.format(a,b))\n",
    "else:\n",
    "    r='{0}noes mayor que {1}'.format(b,a)\n",
    "    print(r)"
   ]
  },
  {
   "cell_type": "code",
   "execution_count": 10,
   "id": "1292195b",
   "metadata": {},
   "outputs": [
    {
     "name": "stdout",
     "output_type": "stream",
     "text": [
      "30 es mayor que 20\n",
      "30 no es mayor que  30.1\n",
      "30.1 Tipo:  <class 'float'>\n"
     ]
    }
   ],
   "source": [
    "if a>b:\n",
    "    r='{1} es mayor que {0}'.format(b,a)\n",
    "    print(r)\n",
    "    if c>a:\n",
    "        print(a,'no es mayor que ',c)\n",
    "        print(c,'Tipo: ',type(c))"
   ]
  },
  {
   "cell_type": "code",
   "execution_count": 12,
   "id": "a1ee2d04",
   "metadata": {},
   "outputs": [],
   "source": [
    "entera= 40\n",
    "cadena_a= 'hola mundo'\n",
    "cadena_b= '!'\n",
    "real= 80.5"
   ]
  },
  {
   "cell_type": "code",
   "execution_count": 14,
   "id": "3297bf7a",
   "metadata": {},
   "outputs": [],
   "source": [
    "res1= entera+real"
   ]
  },
  {
   "cell_type": "code",
   "execution_count": 20,
   "id": "6a1878b4",
   "metadata": {},
   "outputs": [
    {
     "name": "stdout",
     "output_type": "stream",
     "text": [
      "120.5 <class 'float'>\n"
     ]
    }
   ],
   "source": [
    "print(res1,type(res1))"
   ]
  },
  {
   "cell_type": "code",
   "execution_count": 16,
   "id": "79a4f75d",
   "metadata": {},
   "outputs": [],
   "source": [
    "res2=cadena_a+cadena_b"
   ]
  },
  {
   "cell_type": "code",
   "execution_count": 21,
   "id": "3c722bb7",
   "metadata": {},
   "outputs": [
    {
     "name": "stdout",
     "output_type": "stream",
     "text": [
      "hola mundo! <class 'str'>\n"
     ]
    }
   ],
   "source": [
    "print(res2,type(res2))"
   ]
  },
  {
   "cell_type": "code",
   "execution_count": 22,
   "id": "d595a149",
   "metadata": {},
   "outputs": [],
   "source": [
    "r=50\n",
    "o=30"
   ]
  },
  {
   "cell_type": "code",
   "execution_count": 33,
   "id": "46a2495c",
   "metadata": {},
   "outputs": [
    {
     "name": "stdout",
     "output_type": "stream",
     "text": [
      "50 No es menor que 30\n"
     ]
    }
   ],
   "source": [
    "if r>o:\n",
    "    print('{} No es menor que {}'.format(r,o))"
   ]
  },
  {
   "cell_type": "code",
   "execution_count": 41,
   "id": "b5721df8",
   "metadata": {},
   "outputs": [
    {
     "ename": "TypeError",
     "evalue": "'>' not supported between instances of 'str' and 'int'",
     "output_type": "error",
     "traceback": [
      "\u001b[1;31m---------------------------------------------------------------------------\u001b[0m",
      "\u001b[1;31mTypeError\u001b[0m                                 Traceback (most recent call last)",
      "Cell \u001b[1;32mIn[41], line 1\u001b[0m\n\u001b[1;32m----> 1\u001b[0m \u001b[38;5;28;01mif\u001b[39;00m r\u001b[38;5;241m>\u001b[39mo:\n\u001b[0;32m      2\u001b[0m     \u001b[38;5;28mprint\u001b[39m(\u001b[38;5;124m'\u001b[39m\u001b[38;5;132;01m{}\u001b[39;00m\u001b[38;5;124m Si es mayor que \u001b[39m\u001b[38;5;132;01m{}\u001b[39;00m\u001b[38;5;124m'\u001b[39m\u001b[38;5;241m.\u001b[39mformat(r,o))\n",
      "\u001b[1;31mTypeError\u001b[0m: '>' not supported between instances of 'str' and 'int'"
     ]
    }
   ],
   "source": [
    "if r>o:\n",
    "    print('{} Si es mayor que {}'.format(r,o))"
   ]
  },
  {
   "cell_type": "code",
   "execution_count": 36,
   "id": "32895716",
   "metadata": {},
   "outputs": [
    {
     "name": "stdout",
     "output_type": "stream",
     "text": [
      "30 noes mayor que 50\n"
     ]
    }
   ],
   "source": [
    "if r==o:\n",
    "    print('{} es igual que {}'.format(r,o))\n",
    "else:\n",
    "    r='{0} noes mayor que {1}'.format(o,r)\n",
    "    print(r)"
   ]
  },
  {
   "cell_type": "code",
   "execution_count": null,
   "id": "2b0d85d2",
   "metadata": {},
   "outputs": [],
   "source": []
  }
 ],
 "metadata": {
  "kernelspec": {
   "display_name": "Python 3 (ipykernel)",
   "language": "python",
   "name": "python3"
  },
  "language_info": {
   "codemirror_mode": {
    "name": "ipython",
    "version": 3
   },
   "file_extension": ".py",
   "mimetype": "text/x-python",
   "name": "python",
   "nbconvert_exporter": "python",
   "pygments_lexer": "ipython3",
   "version": "3.11.4"
  }
 },
 "nbformat": 4,
 "nbformat_minor": 5
}
