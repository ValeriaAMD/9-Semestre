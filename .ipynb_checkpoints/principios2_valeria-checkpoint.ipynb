{
 "cells": [
  {
   "cell_type": "code",
   "execution_count": 1,
   "id": "6815f5bc",
   "metadata": {},
   "outputs": [],
   "source": [
    "bandera=True"
   ]
  },
  {
   "cell_type": "code",
   "execution_count": 2,
   "id": "8311d115",
   "metadata": {},
   "outputs": [
    {
     "data": {
      "text/plain": [
       "True"
      ]
     },
     "execution_count": 2,
     "metadata": {},
     "output_type": "execute_result"
    }
   ],
   "source": [
    "bandera"
   ]
  },
  {
   "cell_type": "code",
   "execution_count": 3,
   "id": "942a4b33",
   "metadata": {},
   "outputs": [],
   "source": [
    "dicc= {'Nombre':'Vale', 'edad': 22}"
   ]
  },
  {
   "cell_type": "code",
   "execution_count": 4,
   "id": "3ccec2ac",
   "metadata": {},
   "outputs": [
    {
     "data": {
      "text/plain": [
       "{'Nombre': 'Vale', 'edad': 22}"
      ]
     },
     "execution_count": 4,
     "metadata": {},
     "output_type": "execute_result"
    }
   ],
   "source": [
    "dicc"
   ]
  },
  {
   "cell_type": "code",
   "execution_count": 5,
   "id": "b6d8c75f",
   "metadata": {},
   "outputs": [],
   "source": [
    "tupla= (15,16,17)"
   ]
  },
  {
   "cell_type": "code",
   "execution_count": 6,
   "id": "89f6a9dc",
   "metadata": {},
   "outputs": [
    {
     "data": {
      "text/plain": [
       "(15, 16, 17)"
      ]
     },
     "execution_count": 6,
     "metadata": {},
     "output_type": "execute_result"
    }
   ],
   "source": [
    "tupla"
   ]
  },
  {
   "cell_type": "code",
   "execution_count": 18,
   "id": "1a194f1a",
   "metadata": {},
   "outputs": [],
   "source": [
    "x=\"Me\""
   ]
  },
  {
   "cell_type": "code",
   "execution_count": 19,
   "id": "2cae5771",
   "metadata": {},
   "outputs": [
    {
     "name": "stdout",
     "output_type": "stream",
     "text": [
      "Me\n"
     ]
    }
   ],
   "source": [
    "print(x)"
   ]
  },
  {
   "cell_type": "code",
   "execution_count": 15,
   "id": "3485d13e",
   "metadata": {},
   "outputs": [
    {
     "name": "stdout",
     "output_type": "stream",
     "text": [
      "Holis\n",
      "holle\n"
     ]
    }
   ],
   "source": [
    "print('Holis')\n",
    "print(\"holle\")"
   ]
  },
  {
   "cell_type": "code",
   "execution_count": 17,
   "id": "b0f03e9f",
   "metadata": {},
   "outputs": [
    {
     "name": "stdout",
     "output_type": "stream",
     "text": [
      "Holisx2\n",
      "helloo\n"
     ]
    }
   ],
   "source": [
    "print(\"Holisx2\")\n",
    "print(\"helloo\")"
   ]
  },
  {
   "cell_type": "code",
   "execution_count": 20,
   "id": "1f7505af",
   "metadata": {},
   "outputs": [],
   "source": [
    "x='hola'\n",
    "y=5"
   ]
  },
  {
   "cell_type": "code",
   "execution_count": 22,
   "id": "bb38ab72",
   "metadata": {},
   "outputs": [
    {
     "data": {
      "text/plain": [
       "'holaholaholaholahola'"
      ]
     },
     "execution_count": 22,
     "metadata": {},
     "output_type": "execute_result"
    }
   ],
   "source": [
    "x*y"
   ]
  },
  {
   "cell_type": "code",
   "execution_count": 24,
   "id": "08103cca",
   "metadata": {},
   "outputs": [],
   "source": [
    "z='texto'"
   ]
  },
  {
   "cell_type": "code",
   "execution_count": 25,
   "id": "63f433b4",
   "metadata": {},
   "outputs": [],
   "source": [
    "z=5"
   ]
  },
  {
   "cell_type": "code",
   "execution_count": 29,
   "id": "5d273d3d",
   "metadata": {},
   "outputs": [],
   "source": [
    "C=\"hi\"\n",
    "c=\"Hi\""
   ]
  },
  {
   "cell_type": "code",
   "execution_count": 30,
   "id": "2f2e4fb0",
   "metadata": {},
   "outputs": [
    {
     "ename": "TypeError",
     "evalue": "'str' object is not callable",
     "output_type": "error",
     "traceback": [
      "\u001b[1;31m---------------------------------------------------------------------------\u001b[0m",
      "\u001b[1;31mTypeError\u001b[0m                                 Traceback (most recent call last)",
      "Cell \u001b[1;32mIn[30], line 1\u001b[0m\n\u001b[1;32m----> 1\u001b[0m \u001b[38;5;28mprint\u001b[39m(c)\n\u001b[0;32m      2\u001b[0m \u001b[38;5;28mprint\u001b[39m(C)\n",
      "\u001b[1;31mTypeError\u001b[0m: 'str' object is not callable"
     ]
    }
   ],
   "source": [
    "print(c)\n",
    "print(C)"
   ]
  },
  {
   "cell_type": "code",
   "execution_count": 31,
   "id": "ead7c36d",
   "metadata": {},
   "outputs": [],
   "source": [
    "d=5"
   ]
  },
  {
   "cell_type": "code",
   "execution_count": 32,
   "id": "401c9e4c",
   "metadata": {},
   "outputs": [
    {
     "data": {
      "text/plain": [
       "25"
      ]
     },
     "execution_count": 32,
     "metadata": {},
     "output_type": "execute_result"
    }
   ],
   "source": [
    "5**2"
   ]
  },
  {
   "cell_type": "code",
   "execution_count": 41,
   "id": "3a8e81c5",
   "metadata": {},
   "outputs": [],
   "source": [
    "x=1234\n",
    "z='hola mundo'\n",
    "w=3.2416\n",
    "y=True"
   ]
  },
  {
   "cell_type": "code",
   "execution_count": 42,
   "id": "edf29a6f",
   "metadata": {},
   "outputs": [
    {
     "ename": "TypeError",
     "evalue": "'str' object is not callable",
     "output_type": "error",
     "traceback": [
      "\u001b[1;31m---------------------------------------------------------------------------\u001b[0m",
      "\u001b[1;31mTypeError\u001b[0m                                 Traceback (most recent call last)",
      "Cell \u001b[1;32mIn[42], line 1\u001b[0m\n\u001b[1;32m----> 1\u001b[0m \u001b[38;5;28mprint\u001b[39m(x)\n\u001b[0;32m      2\u001b[0m \u001b[38;5;28mtype\u001b[39m(x)\n",
      "\u001b[1;31mTypeError\u001b[0m: 'str' object is not callable"
     ]
    }
   ],
   "source": [
    "print(x)\n",
    "type(x)"
   ]
  },
  {
   "cell_type": "code",
   "execution_count": 43,
   "id": "8f63be03",
   "metadata": {},
   "outputs": [
    {
     "ename": "TypeError",
     "evalue": "'str' object is not callable",
     "output_type": "error",
     "traceback": [
      "\u001b[1;31m---------------------------------------------------------------------------\u001b[0m",
      "\u001b[1;31mTypeError\u001b[0m                                 Traceback (most recent call last)",
      "Cell \u001b[1;32mIn[43], line 1\u001b[0m\n\u001b[1;32m----> 1\u001b[0m \u001b[38;5;28mprint\u001b[39m(x)\n",
      "\u001b[1;31mTypeError\u001b[0m: 'str' object is not callable"
     ]
    }
   ],
   "source": [
    "print(x)"
   ]
  },
  {
   "cell_type": "code",
   "execution_count": 44,
   "id": "2887f7a4",
   "metadata": {},
   "outputs": [
    {
     "data": {
      "text/plain": [
       "1234"
      ]
     },
     "execution_count": 44,
     "metadata": {},
     "output_type": "execute_result"
    }
   ],
   "source": [
    "x\n"
   ]
  },
  {
   "cell_type": "code",
   "execution_count": 45,
   "id": "3ce6b0f7",
   "metadata": {},
   "outputs": [
    {
     "data": {
      "text/plain": [
       "int"
      ]
     },
     "execution_count": 45,
     "metadata": {},
     "output_type": "execute_result"
    }
   ],
   "source": [
    "type(x)"
   ]
  },
  {
   "cell_type": "code",
   "execution_count": 46,
   "id": "9b77bdc9",
   "metadata": {},
   "outputs": [
    {
     "data": {
      "text/plain": [
       "float"
      ]
     },
     "execution_count": 46,
     "metadata": {},
     "output_type": "execute_result"
    }
   ],
   "source": [
    "w\n",
    "type(w)"
   ]
  },
  {
   "cell_type": "code",
   "execution_count": 47,
   "id": "37ff0cb9",
   "metadata": {},
   "outputs": [],
   "source": [
    "x=10\n",
    "y=15"
   ]
  },
  {
   "cell_type": "code",
   "execution_count": 50,
   "id": "4622bd47",
   "metadata": {},
   "outputs": [],
   "source": [
    "res=x+y"
   ]
  },
  {
   "cell_type": "code",
   "execution_count": 51,
   "id": "39da9332",
   "metadata": {},
   "outputs": [
    {
     "data": {
      "text/plain": [
       "25"
      ]
     },
     "execution_count": 51,
     "metadata": {},
     "output_type": "execute_result"
    }
   ],
   "source": [
    "res"
   ]
  },
  {
   "cell_type": "code",
   "execution_count": 52,
   "id": "b291897c",
   "metadata": {},
   "outputs": [],
   "source": [
    "a='mundo'\n",
    "n=3000"
   ]
  },
  {
   "cell_type": "code",
   "execution_count": 53,
   "id": "8098abf5",
   "metadata": {},
   "outputs": [
    {
     "data": {
      "text/plain": [
       "'hola mundo'"
      ]
     },
     "execution_count": 53,
     "metadata": {},
     "output_type": "execute_result"
    }
   ],
   "source": [
    "'hola '+'mundo'"
   ]
  },
  {
   "cell_type": "code",
   "execution_count": 54,
   "id": "e0623418",
   "metadata": {},
   "outputs": [
    {
     "data": {
      "text/plain": [
       "'hola mundo'"
      ]
     },
     "execution_count": 54,
     "metadata": {},
     "output_type": "execute_result"
    }
   ],
   "source": [
    "'hola '+a"
   ]
  },
  {
   "cell_type": "code",
   "execution_count": 56,
   "id": "00e21366",
   "metadata": {},
   "outputs": [
    {
     "data": {
      "text/plain": [
       "'\"hola mundo'"
      ]
     },
     "execution_count": 56,
     "metadata": {},
     "output_type": "execute_result"
    }
   ],
   "source": [
    "\"\"\"\"hola \"\"\"+a"
   ]
  },
  {
   "cell_type": "code",
   "execution_count": 57,
   "id": "275f41c8",
   "metadata": {},
   "outputs": [
    {
     "data": {
      "text/plain": [
       "'hola mundo'"
      ]
     },
     "execution_count": 57,
     "metadata": {},
     "output_type": "execute_result"
    }
   ],
   "source": [
    "'hola {}'.format(a)"
   ]
  },
  {
   "cell_type": "code",
   "execution_count": 58,
   "id": "85aebc20",
   "metadata": {},
   "outputs": [],
   "source": [
    "nombre='Valeria'"
   ]
  },
  {
   "cell_type": "code",
   "execution_count": 59,
   "id": "da00178b",
   "metadata": {},
   "outputs": [
    {
     "data": {
      "text/plain": [
       "'Hola soy Valeria y soy estudiante'"
      ]
     },
     "execution_count": 59,
     "metadata": {},
     "output_type": "execute_result"
    }
   ],
   "source": [
    "'Hola soy {} y soy estudiante'.format(nombre)"
   ]
  },
  {
   "cell_type": "code",
   "execution_count": 61,
   "id": "a8aa1248",
   "metadata": {},
   "outputs": [],
   "source": [
    "l='almorzar'"
   ]
  },
  {
   "cell_type": "code",
   "execution_count": 66,
   "id": "ca3d9853",
   "metadata": {},
   "outputs": [
    {
     "data": {
      "text/plain": [
       "'ya me quiero ir a almorzar'"
      ]
     },
     "execution_count": 66,
     "metadata": {},
     "output_type": "execute_result"
    }
   ],
   "source": [
    "'ya me quiero ir a {}'.format(l)"
   ]
  },
  {
   "cell_type": "code",
   "execution_count": 67,
   "id": "5ed5a2cb",
   "metadata": {},
   "outputs": [
    {
     "data": {
      "text/plain": [
       "'Hola soy Valeria y soy estudiante Valeria'"
      ]
     },
     "execution_count": 67,
     "metadata": {},
     "output_type": "execute_result"
    }
   ],
   "source": [
    "'Hola soy {a} y soy estudiante {a}'.format(a=nombre)"
   ]
  },
  {
   "cell_type": "code",
   "execution_count": 70,
   "id": "8d239d45",
   "metadata": {},
   "outputs": [
    {
     "data": {
      "text/plain": [
       "'ya me quiero ir a almorzar'"
      ]
     },
     "execution_count": 70,
     "metadata": {},
     "output_type": "execute_result"
    }
   ],
   "source": [
    "'ya me quiero ir a {}'.format(l)"
   ]
  },
  {
   "cell_type": "code",
   "execution_count": 74,
   "id": "8d20e9d4",
   "metadata": {},
   "outputs": [
    {
     "data": {
      "text/plain": [
       "'holamundo!'"
      ]
     },
     "execution_count": 74,
     "metadata": {},
     "output_type": "execute_result"
    }
   ],
   "source": [
    "'hola{0}{1}'.format(a,'!')"
   ]
  },
  {
   "cell_type": "code",
   "execution_count": 75,
   "id": "88c23983",
   "metadata": {},
   "outputs": [
    {
     "data": {
      "text/plain": [
       "'hola!mundo'"
      ]
     },
     "execution_count": 75,
     "metadata": {},
     "output_type": "execute_result"
    }
   ],
   "source": [
    "'hola{1}{0}'.format(a,'!')"
   ]
  },
  {
   "cell_type": "code",
   "execution_count": 77,
   "id": "9e1707c6",
   "metadata": {
    "scrolled": true
   },
   "outputs": [
    {
     "data": {
      "text/plain": [
       "'hola mundo!'"
      ]
     },
     "execution_count": 77,
     "metadata": {},
     "output_type": "execute_result"
    }
   ],
   "source": [
    "'hola {0}{1}'.format(a,'!')"
   ]
  },
  {
   "cell_type": "code",
   "execution_count": 78,
   "id": "83939ab0",
   "metadata": {},
   "outputs": [],
   "source": [
    "e=50"
   ]
  },
  {
   "cell_type": "code",
   "execution_count": 79,
   "id": "b30285fb",
   "metadata": {},
   "outputs": [],
   "source": [
    "r=30"
   ]
  },
  {
   "cell_type": "code",
   "execution_count": 80,
   "id": "4583b6e4",
   "metadata": {},
   "outputs": [],
   "source": [
    "A=e*r"
   ]
  },
  {
   "cell_type": "code",
   "execution_count": 81,
   "id": "5b7e8ab1",
   "metadata": {},
   "outputs": [
    {
     "data": {
      "text/plain": [
       "1500"
      ]
     },
     "execution_count": 81,
     "metadata": {},
     "output_type": "execute_result"
    }
   ],
   "source": [
    "A"
   ]
  },
  {
   "cell_type": "code",
   "execution_count": 82,
   "id": "00889a84",
   "metadata": {},
   "outputs": [],
   "source": [
    "B=50/30"
   ]
  },
  {
   "cell_type": "code",
   "execution_count": 83,
   "id": "ab9a2da7",
   "metadata": {},
   "outputs": [
    {
     "data": {
      "text/plain": [
       "1.6666666666666667"
      ]
     },
     "execution_count": 83,
     "metadata": {},
     "output_type": "execute_result"
    }
   ],
   "source": [
    "B"
   ]
  },
  {
   "cell_type": "code",
   "execution_count": 84,
   "id": "b77e595e",
   "metadata": {},
   "outputs": [],
   "source": [
    "C=50-30"
   ]
  },
  {
   "cell_type": "code",
   "execution_count": 85,
   "id": "75f9384a",
   "metadata": {},
   "outputs": [
    {
     "data": {
      "text/plain": [
       "20"
      ]
     },
     "execution_count": 85,
     "metadata": {},
     "output_type": "execute_result"
    }
   ],
   "source": [
    "C"
   ]
  },
  {
   "cell_type": "code",
   "execution_count": 86,
   "id": "13915714",
   "metadata": {},
   "outputs": [],
   "source": [
    "D=50+30"
   ]
  },
  {
   "cell_type": "code",
   "execution_count": 87,
   "id": "a547b533",
   "metadata": {},
   "outputs": [
    {
     "data": {
      "text/plain": [
       "80"
      ]
     },
     "execution_count": 87,
     "metadata": {},
     "output_type": "execute_result"
    }
   ],
   "source": [
    "D"
   ]
  },
  {
   "cell_type": "code",
   "execution_count": 88,
   "id": "1c26cced",
   "metadata": {},
   "outputs": [],
   "source": [
    "E=5**3"
   ]
  },
  {
   "cell_type": "code",
   "execution_count": 89,
   "id": "f0482622",
   "metadata": {},
   "outputs": [
    {
     "data": {
      "text/plain": [
       "125"
      ]
     },
     "execution_count": 89,
     "metadata": {},
     "output_type": "execute_result"
    }
   ],
   "source": [
    "E"
   ]
  },
  {
   "cell_type": "code",
   "execution_count": 94,
   "id": "4410cbdd",
   "metadata": {},
   "outputs": [],
   "source": [
    "a=30\n",
    "b=20"
   ]
  },
  {
   "cell_type": "code",
   "execution_count": 97,
   "id": "abd38a63",
   "metadata": {},
   "outputs": [
    {
     "ename": "TypeError",
     "evalue": "'str' object is not callable",
     "output_type": "error",
     "traceback": [
      "\u001b[1;31m---------------------------------------------------------------------------\u001b[0m",
      "\u001b[1;31mTypeError\u001b[0m                                 Traceback (most recent call last)",
      "Cell \u001b[1;32mIn[97], line 2\u001b[0m\n\u001b[0;32m      1\u001b[0m \u001b[38;5;28;01mif\u001b[39;00m a\u001b[38;5;241m>\u001b[39mb:\n\u001b[1;32m----> 2\u001b[0m     \u001b[38;5;28mprint\u001b[39m(\u001b[38;5;124m'\u001b[39m\u001b[38;5;132;01m{}\u001b[39;00m\u001b[38;5;124mes mayor que \u001b[39m\u001b[38;5;132;01m{}\u001b[39;00m\u001b[38;5;124m'\u001b[39m\u001b[38;5;241m.\u001b[39mformat(a,b))\n",
      "\u001b[1;31mTypeError\u001b[0m: 'str' object is not callable"
     ]
    }
   ],
   "source": [
    "if a>b:\n",
    "    print('{}es mayor que {}'.format(a,b))"
   ]
  },
  {
   "cell_type": "code",
   "execution_count": null,
   "id": "383a3a48",
   "metadata": {},
   "outputs": [],
   "source": []
  }
 ],
 "metadata": {
  "kernelspec": {
   "display_name": "Python 3 (ipykernel)",
   "language": "python",
   "name": "python3"
  },
  "language_info": {
   "codemirror_mode": {
    "name": "ipython",
    "version": 3
   },
   "file_extension": ".py",
   "mimetype": "text/x-python",
   "name": "python",
   "nbconvert_exporter": "python",
   "pygments_lexer": "ipython3",
   "version": "3.11.4"
  }
 },
 "nbformat": 4,
 "nbformat_minor": 5
}
