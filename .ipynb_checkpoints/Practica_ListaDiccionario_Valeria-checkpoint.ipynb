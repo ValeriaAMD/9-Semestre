{
 "cells": [
  {
   "cell_type": "code",
   "execution_count": null,
   "id": "930a02d5",
   "metadata": {},
   "outputs": [
    {
     "name": "stdout",
     "output_type": "stream",
     "text": [
      "nombre: val\n",
      "Programacion: 10\n",
      "Base de datos: 9\n",
      "genero: f\n",
      "edad: 5\n",
      "beca: no\n",
      "domicilio: fthhu\n",
      "celular: 346547\n",
      "email: ftjhyu\n",
      "nombre: ttyujdt\n",
      "Programacion: 567\n",
      "Base de datos: 657\n",
      "genero: tu\n"
     ]
    }
   ],
   "source": [
    "lista = []  #se crea la lista\n",
    "for x in range(4):  #ponemos un rango en el que se repetiran los input\n",
    "    dic = {}\n",
    "    x = str(input('nombre: '))          #agregamos los valores para cada diccionario\n",
    "    y = int(input('Programacion: '))\n",
    "    z = int(input('Base de datos: '))\n",
    "    w = str(input('genero: '))\n",
    "    t = int(input('edad: '))\n",
    "    u = str(input('beca: '))\n",
    "    v = str(input('domicilio: '))\n",
    "    p = int(input('celular: '))\n",
    "    r = str(input('email: '))\n",
    "    \n",
    "    dic['nombre'] = x              #los valores que se guardaron en las variables,\n",
    "    dic['programacion'] = y         #se agregan a las claves del diccionario\n",
    "    dic['base de datos'] = z\n",
    "    dic['genero'] = w\n",
    "    dic['edad'] = t\n",
    "    dic['beca'] = u\n",
    "    dic['domicilio'] = v\n",
    "    dic['celular'] = p\n",
    "    dic['email'] = r\n",
    "\n",
    "    lista.append(dic)            #se agrega en diccionario en la lista\n",
    "\n",
    "print('esta es la lista de los estudiantes que agrego: {} '.format(lista))        #imprime la lista final\n",
    "    \n",
    "    #variables\n",
    "    #diccionario\n",
    "    #lista\n",
    "    "
   ]
  },
  {
   "cell_type": "code",
   "execution_count": null,
   "id": "c1d0421f",
   "metadata": {},
   "outputs": [],
   "source": []
  }
 ],
 "metadata": {
  "kernelspec": {
   "display_name": "Python 3 (ipykernel)",
   "language": "python",
   "name": "python3"
  },
  "language_info": {
   "codemirror_mode": {
    "name": "ipython",
    "version": 3
   },
   "file_extension": ".py",
   "mimetype": "text/x-python",
   "name": "python",
   "nbconvert_exporter": "python",
   "pygments_lexer": "ipython3",
   "version": "3.11.4"
  }
 },
 "nbformat": 4,
 "nbformat_minor": 5
}
