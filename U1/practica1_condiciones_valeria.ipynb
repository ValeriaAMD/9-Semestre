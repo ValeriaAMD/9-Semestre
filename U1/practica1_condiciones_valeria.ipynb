{
 "cells": [
  {
   "cell_type": "code",
   "execution_count": 36,
   "id": "1bc6f931",
   "metadata": {},
   "outputs": [],
   "source": [
    "r=50\n",
    "o=30"
   ]
  },
  {
   "cell_type": "code",
   "execution_count": 37,
   "id": "24bf5ee1",
   "metadata": {},
   "outputs": [
    {
     "name": "stdout",
     "output_type": "stream",
     "text": [
      "50 No es menor que 30\n"
     ]
    }
   ],
   "source": [
    "if r<o:\n",
    "    print('{} Si es menor que {}'.format(r,o))\n",
    "else:\n",
    "    print('{1} No es menor que {0}'.format(o,r))"
   ]
  },
  {
   "cell_type": "code",
   "execution_count": 38,
   "id": "f3570991",
   "metadata": {},
   "outputs": [
    {
     "name": "stdout",
     "output_type": "stream",
     "text": [
      "50 si es mayor que 30\n"
     ]
    }
   ],
   "source": [
    "if r>o:\n",
    "    print('{} si es mayor que {}'.format(r,o))\n",
    "else:\n",
    "    print('{} no es mayor que {}'.format(o,r))"
   ]
  },
  {
   "cell_type": "code",
   "execution_count": 39,
   "id": "d634a2df",
   "metadata": {},
   "outputs": [
    {
     "name": "stdout",
     "output_type": "stream",
     "text": [
      "30 no es igual que 50\n"
     ]
    }
   ],
   "source": [
    "if r==o:\n",
    "    print('{} es igual que {}'.format(r,o))\n",
    "else:\n",
    "    print('{0} no es igual que {1}'.format(o,r))"
   ]
  },
  {
   "cell_type": "code",
   "execution_count": 40,
   "id": "f6059d00",
   "metadata": {},
   "outputs": [
    {
     "name": "stdout",
     "output_type": "stream",
     "text": [
      "50 y 30  son diferentes\n"
     ]
    }
   ],
   "source": [
    "if r!=o:\n",
    "    print(r,'y',o,' son diferentes')\n",
    "else:\n",
    "    print(r,'y',o,' son iguales')"
   ]
  },
  {
   "cell_type": "code",
   "execution_count": 41,
   "id": "6e56c8e3",
   "metadata": {},
   "outputs": [
    {
     "name": "stdout",
     "output_type": "stream",
     "text": [
      "50 si es mayor o igual que 30\n"
     ]
    }
   ],
   "source": [
    "if r>=o:\n",
    "    print('{} si es mayor o igual que {}'.format(r,o))\n",
    "else:\n",
    "    print('{} no es mayor o igual que {}'.format(r,o))"
   ]
  },
  {
   "cell_type": "code",
   "execution_count": 43,
   "id": "15ee8919",
   "metadata": {},
   "outputs": [
    {
     "name": "stdout",
     "output_type": "stream",
     "text": [
      "30 si es menor o igual que 50\n"
     ]
    }
   ],
   "source": [
    "if o<=r:\n",
    "    print('{} si es menor o igual que {}'.format(o,r))\n",
    "else:\n",
    "    print('{} no es menor o igual que {}'.format(o,r))"
   ]
  },
  {
   "cell_type": "code",
   "execution_count": null,
   "id": "379bba9c",
   "metadata": {},
   "outputs": [],
   "source": []
  },
  {
   "cell_type": "code",
   "execution_count": null,
   "id": "8ce42141",
   "metadata": {},
   "outputs": [],
   "source": []
  }
 ],
 "metadata": {
  "kernelspec": {
   "display_name": "Python 3 (ipykernel)",
   "language": "python",
   "name": "python3"
  },
  "language_info": {
   "codemirror_mode": {
    "name": "ipython",
    "version": 3
   },
   "file_extension": ".py",
   "mimetype": "text/x-python",
   "name": "python",
   "nbconvert_exporter": "python",
   "pygments_lexer": "ipython3",
   "version": "3.11.4"
  }
 },
 "nbformat": 4,
 "nbformat_minor": 5
}
