{
 "cells": [
  {
   "cell_type": "code",
   "execution_count": 4,
   "id": "2da3ad6f",
   "metadata": {},
   "outputs": [],
   "source": [
    "a='hola_mundo!'"
   ]
  },
  {
   "cell_type": "code",
   "execution_count": 5,
   "id": "e682b92d",
   "metadata": {},
   "outputs": [
    {
     "data": {
      "text/plain": [
       "'h'"
      ]
     },
     "execution_count": 5,
     "metadata": {},
     "output_type": "execute_result"
    }
   ],
   "source": [
    "a[0]"
   ]
  },
  {
   "cell_type": "code",
   "execution_count": 6,
   "id": "58bb433c",
   "metadata": {},
   "outputs": [
    {
     "data": {
      "text/plain": [
       "'!'"
      ]
     },
     "execution_count": 6,
     "metadata": {},
     "output_type": "execute_result"
    }
   ],
   "source": [
    "a[-1]"
   ]
  },
  {
   "cell_type": "code",
   "execution_count": 7,
   "id": "3275e618",
   "metadata": {},
   "outputs": [
    {
     "data": {
      "text/plain": [
       "'d'"
      ]
     },
     "execution_count": 7,
     "metadata": {},
     "output_type": "execute_result"
    }
   ],
   "source": [
    "a[-3]"
   ]
  },
  {
   "cell_type": "code",
   "execution_count": 8,
   "id": "6345e2c5",
   "metadata": {},
   "outputs": [
    {
     "data": {
      "text/plain": [
       "'hola'"
      ]
     },
     "execution_count": 8,
     "metadata": {},
     "output_type": "execute_result"
    }
   ],
   "source": [
    "a[0:4]"
   ]
  },
  {
   "cell_type": "code",
   "execution_count": 9,
   "id": "ff246955",
   "metadata": {},
   "outputs": [
    {
     "data": {
      "text/plain": [
       "'mundo!'"
      ]
     },
     "execution_count": 9,
     "metadata": {},
     "output_type": "execute_result"
    }
   ],
   "source": [
    "a[5:]"
   ]
  },
  {
   "cell_type": "code",
   "execution_count": 10,
   "id": "41c16b97",
   "metadata": {},
   "outputs": [
    {
     "data": {
      "text/plain": [
       "'hhh'"
      ]
     },
     "execution_count": 10,
     "metadata": {},
     "output_type": "execute_result"
    }
   ],
   "source": [
    "a[0]*3"
   ]
  },
  {
   "cell_type": "code",
   "execution_count": 12,
   "id": "4c5d8039",
   "metadata": {},
   "outputs": [],
   "source": [
    "b='Tics 9'"
   ]
  },
  {
   "cell_type": "code",
   "execution_count": 13,
   "id": "474eeeea",
   "metadata": {},
   "outputs": [
    {
     "data": {
      "text/plain": [
       "'HOLA_MUNDO!'"
      ]
     },
     "execution_count": 13,
     "metadata": {},
     "output_type": "execute_result"
    }
   ],
   "source": [
    "a.upper()"
   ]
  },
  {
   "cell_type": "code",
   "execution_count": 14,
   "id": "32f2ae2f",
   "metadata": {},
   "outputs": [],
   "source": [
    "c='HOLA_MUNDO!'"
   ]
  },
  {
   "cell_type": "code",
   "execution_count": 15,
   "id": "7637994e",
   "metadata": {},
   "outputs": [
    {
     "data": {
      "text/plain": [
       "'hola_mundo!'"
      ]
     },
     "execution_count": 15,
     "metadata": {},
     "output_type": "execute_result"
    }
   ],
   "source": [
    "c.lower()"
   ]
  },
  {
   "cell_type": "code",
   "execution_count": 16,
   "id": "78b921eb",
   "metadata": {},
   "outputs": [
    {
     "data": {
      "text/plain": [
       "2"
      ]
     },
     "execution_count": 16,
     "metadata": {},
     "output_type": "execute_result"
    }
   ],
   "source": [
    "a.count('o')"
   ]
  },
  {
   "cell_type": "code",
   "execution_count": 17,
   "id": "4412fb3c",
   "metadata": {},
   "outputs": [
    {
     "data": {
      "text/plain": [
       "'holu_mundo!'"
      ]
     },
     "execution_count": 17,
     "metadata": {},
     "output_type": "execute_result"
    }
   ],
   "source": [
    "a.replace('a','u')"
   ]
  },
  {
   "cell_type": "code",
   "execution_count": 18,
   "id": "2dc4be2f",
   "metadata": {},
   "outputs": [
    {
     "data": {
      "text/plain": [
       "'hola_mendo!'"
      ]
     },
     "execution_count": 18,
     "metadata": {},
     "output_type": "execute_result"
    }
   ],
   "source": [
    "a.replace('u','e')"
   ]
  },
  {
   "cell_type": "code",
   "execution_count": 19,
   "id": "434e3b0b",
   "metadata": {},
   "outputs": [
    {
     "data": {
      "text/plain": [
       "'Hola_Mundo!'"
      ]
     },
     "execution_count": 19,
     "metadata": {},
     "output_type": "execute_result"
    }
   ],
   "source": [
    "a.title()"
   ]
  },
  {
   "cell_type": "code",
   "execution_count": 20,
   "id": "49baca2c",
   "metadata": {},
   "outputs": [
    {
     "data": {
      "text/plain": [
       "'Este Es Un Titulo'"
      ]
     },
     "execution_count": 20,
     "metadata": {},
     "output_type": "execute_result"
    }
   ],
   "source": [
    "'este es un titulo'.title()"
   ]
  },
  {
   "cell_type": "code",
   "execution_count": 5,
   "id": "13d650d0",
   "metadata": {},
   "outputs": [],
   "source": [
    "#listas \n",
    "\n",
    "lst=[13,3,141,True,'holamundo!']\n",
    "lstn=[13,33,45,68]\n",
    "lstd=[13,33,45,[1,2,3]] "
   ]
  },
  {
   "cell_type": "code",
   "execution_count": 6,
   "id": "a9e37df4",
   "metadata": {},
   "outputs": [],
   "source": [
    "lst.append([1])\n",
    "#append agrega los valores pero al final de la lista"
   ]
  },
  {
   "cell_type": "code",
   "execution_count": 14,
   "id": "0b842707",
   "metadata": {},
   "outputs": [
    {
     "data": {
      "text/plain": [
       "[13, 3, 141, True, 'holamundo!', [1], [13], [13], 13]"
      ]
     },
     "execution_count": 14,
     "metadata": {},
     "output_type": "execute_result"
    }
   ],
   "source": [
    "lst"
   ]
  },
  {
   "cell_type": "code",
   "execution_count": 15,
   "id": "c4570ae7",
   "metadata": {},
   "outputs": [],
   "source": [
    "lst.append(13)"
   ]
  },
  {
   "cell_type": "code",
   "execution_count": 16,
   "id": "d59776f3",
   "metadata": {},
   "outputs": [
    {
     "data": {
      "text/plain": [
       "3"
      ]
     },
     "execution_count": 16,
     "metadata": {},
     "output_type": "execute_result"
    }
   ],
   "source": [
    "lst.count(13)"
   ]
  },
  {
   "cell_type": "code",
   "execution_count": 17,
   "id": "26da4b05",
   "metadata": {},
   "outputs": [
    {
     "data": {
      "text/plain": [
       "10"
      ]
     },
     "execution_count": 17,
     "metadata": {},
     "output_type": "execute_result"
    }
   ],
   "source": [
    "len(lst)"
   ]
  },
  {
   "cell_type": "code",
   "execution_count": 18,
   "id": "011c16db",
   "metadata": {},
   "outputs": [],
   "source": [
    "lst.insert(1,4) \n",
    "#con append solo se agregan los valores \n",
    "#con insert se agregan el el lugar especifico"
   ]
  },
  {
   "cell_type": "code",
   "execution_count": 19,
   "id": "0df3950f",
   "metadata": {},
   "outputs": [
    {
     "data": {
      "text/plain": [
       "[13, 4, 3, 141, True, 'holamundo!', [1], [13], [13], 13, 13]"
      ]
     },
     "execution_count": 19,
     "metadata": {},
     "output_type": "execute_result"
    }
   ],
   "source": [
    "lst"
   ]
  },
  {
   "cell_type": "code",
   "execution_count": 20,
   "id": "ce3ea2d8",
   "metadata": {},
   "outputs": [],
   "source": [
    "lst.append(57)"
   ]
  },
  {
   "cell_type": "code",
   "execution_count": 21,
   "id": "f6014003",
   "metadata": {},
   "outputs": [
    {
     "data": {
      "text/plain": [
       "[13, 4, 3, 141, True, 'holamundo!', [1], [13], [13], 13, 13, 57]"
      ]
     },
     "execution_count": 21,
     "metadata": {},
     "output_type": "execute_result"
    }
   ],
   "source": [
    "lst"
   ]
  },
  {
   "cell_type": "code",
   "execution_count": 22,
   "id": "254da0c4",
   "metadata": {},
   "outputs": [],
   "source": [
    "lstn.append(57)"
   ]
  },
  {
   "cell_type": "code",
   "execution_count": 23,
   "id": "0de7bb6c",
   "metadata": {},
   "outputs": [
    {
     "data": {
      "text/plain": [
       "[13, 33, 45, 68, 57]"
      ]
     },
     "execution_count": 23,
     "metadata": {},
     "output_type": "execute_result"
    }
   ],
   "source": [
    "lstn"
   ]
  },
  {
   "cell_type": "code",
   "execution_count": 24,
   "id": "ec57be08",
   "metadata": {},
   "outputs": [],
   "source": [
    "lstn.sort()\n",
    "#ordena"
   ]
  },
  {
   "cell_type": "code",
   "execution_count": 25,
   "id": "ccb6785e",
   "metadata": {},
   "outputs": [
    {
     "data": {
      "text/plain": [
       "[13, 33, 45, 57, 68]"
      ]
     },
     "execution_count": 25,
     "metadata": {},
     "output_type": "execute_result"
    }
   ],
   "source": [
    "lstn"
   ]
  },
  {
   "cell_type": "code",
   "execution_count": 26,
   "id": "2f158b4c",
   "metadata": {},
   "outputs": [],
   "source": [
    "lstn.reverse()\n",
    "#voltea"
   ]
  },
  {
   "cell_type": "code",
   "execution_count": 27,
   "id": "b307373f",
   "metadata": {},
   "outputs": [
    {
     "data": {
      "text/plain": [
       "[68, 57, 45, 33, 13]"
      ]
     },
     "execution_count": 27,
     "metadata": {},
     "output_type": "execute_result"
    }
   ],
   "source": [
    "lstn"
   ]
  },
  {
   "cell_type": "code",
   "execution_count": 28,
   "id": "e59a33ab",
   "metadata": {},
   "outputs": [],
   "source": [
    "lstn.append(45)"
   ]
  },
  {
   "cell_type": "code",
   "execution_count": 29,
   "id": "d59dc2ea",
   "metadata": {},
   "outputs": [
    {
     "data": {
      "text/plain": [
       "[68, 57, 45, 33, 13, 45]"
      ]
     },
     "execution_count": 29,
     "metadata": {},
     "output_type": "execute_result"
    }
   ],
   "source": [
    "lstn"
   ]
  },
  {
   "cell_type": "code",
   "execution_count": 30,
   "id": "1441cf91",
   "metadata": {},
   "outputs": [],
   "source": [
    "lstn.remove(45)\n",
    "#elimina el primer dato que se encuentre"
   ]
  },
  {
   "cell_type": "code",
   "execution_count": 31,
   "id": "66a01ecb",
   "metadata": {},
   "outputs": [
    {
     "data": {
      "text/plain": [
       "[68, 57, 33, 13, 45]"
      ]
     },
     "execution_count": 31,
     "metadata": {},
     "output_type": "execute_result"
    }
   ],
   "source": [
    "lstn"
   ]
  },
  {
   "cell_type": "code",
   "execution_count": 34,
   "id": "f3d287ac",
   "metadata": {},
   "outputs": [
    {
     "data": {
      "text/plain": [
       "33"
      ]
     },
     "execution_count": 34,
     "metadata": {},
     "output_type": "execute_result"
    }
   ],
   "source": [
    "lstn.pop(1)\n",
    "#elimina el dato por posision "
   ]
  },
  {
   "cell_type": "markdown",
   "id": "e8e0927a",
   "metadata": {},
   "source": [
    "lstn"
   ]
  },
  {
   "cell_type": "code",
   "execution_count": 35,
   "id": "c089db0b",
   "metadata": {},
   "outputs": [],
   "source": [
    "lstn2=lstn.copy()\n",
    "#creamos una nueva lista igual a otra por medio del copy"
   ]
  },
  {
   "cell_type": "code",
   "execution_count": 36,
   "id": "de904f20",
   "metadata": {},
   "outputs": [
    {
     "data": {
      "text/plain": [
       "[68, 13, 45]"
      ]
     },
     "execution_count": 36,
     "metadata": {},
     "output_type": "execute_result"
    }
   ],
   "source": [
    "lstn2"
   ]
  },
  {
   "cell_type": "code",
   "execution_count": 37,
   "id": "0d1ffacc",
   "metadata": {},
   "outputs": [],
   "source": [
    "lstn.clear()\n",
    "#la limpia pero sigue existiendo la lista "
   ]
  },
  {
   "cell_type": "code",
   "execution_count": 38,
   "id": "c970d9e6",
   "metadata": {},
   "outputs": [
    {
     "data": {
      "text/plain": [
       "[]"
      ]
     },
     "execution_count": 38,
     "metadata": {},
     "output_type": "execute_result"
    }
   ],
   "source": [
    "lstn"
   ]
  },
  {
   "cell_type": "code",
   "execution_count": 39,
   "id": "2aba61eb",
   "metadata": {},
   "outputs": [
    {
     "data": {
      "text/plain": [
       "0"
      ]
     },
     "execution_count": 39,
     "metadata": {},
     "output_type": "execute_result"
    }
   ],
   "source": [
    "len(lstn)"
   ]
  },
  {
   "cell_type": "code",
   "execution_count": 41,
   "id": "771ebe67",
   "metadata": {},
   "outputs": [],
   "source": [
    "###\n",
    "#practica Listas\n",
    "lsta=['m','x','z','a'] #ordenar de asc y desc\n",
    "lstb=[13,33,45,68] #que quede [13,4.5342, True,'hola mundo']\n",
    "lstc=[13,33,45,68,45,[1,2,3]]"
   ]
  },
  {
   "cell_type": "code",
   "execution_count": 42,
   "id": "56d74eee",
   "metadata": {},
   "outputs": [],
   "source": [
    "lsta.sort()"
   ]
  },
  {
   "cell_type": "code",
   "execution_count": 43,
   "id": "878dda24",
   "metadata": {},
   "outputs": [
    {
     "data": {
      "text/plain": [
       "['a', 'm', 'x', 'z']"
      ]
     },
     "execution_count": 43,
     "metadata": {},
     "output_type": "execute_result"
    }
   ],
   "source": [
    "lsta"
   ]
  },
  {
   "cell_type": "code",
   "execution_count": 44,
   "id": "064b7c29",
   "metadata": {},
   "outputs": [],
   "source": [
    "lsta.reverse()"
   ]
  },
  {
   "cell_type": "code",
   "execution_count": 45,
   "id": "667ea433",
   "metadata": {},
   "outputs": [
    {
     "data": {
      "text/plain": [
       "['z', 'x', 'm', 'a']"
      ]
     },
     "execution_count": 45,
     "metadata": {},
     "output_type": "execute_result"
    }
   ],
   "source": [
    "lsta"
   ]
  },
  {
   "cell_type": "code",
   "execution_count": 47,
   "id": "01f84d73",
   "metadata": {},
   "outputs": [
    {
     "data": {
      "text/plain": [
       "33"
      ]
     },
     "execution_count": 47,
     "metadata": {},
     "output_type": "execute_result"
    }
   ],
   "source": [
    "lstb.pop(1)"
   ]
  },
  {
   "cell_type": "code",
   "execution_count": 48,
   "id": "69ff463e",
   "metadata": {},
   "outputs": [
    {
     "data": {
      "text/plain": [
       "45"
      ]
     },
     "execution_count": 48,
     "metadata": {},
     "output_type": "execute_result"
    }
   ],
   "source": [
    "lstb.pop(1)"
   ]
  },
  {
   "cell_type": "code",
   "execution_count": 49,
   "id": "1ff3b85f",
   "metadata": {},
   "outputs": [
    {
     "data": {
      "text/plain": [
       "68"
      ]
     },
     "execution_count": 49,
     "metadata": {},
     "output_type": "execute_result"
    }
   ],
   "source": [
    "lstb.pop(1)"
   ]
  },
  {
   "cell_type": "code",
   "execution_count": 50,
   "id": "529bb060",
   "metadata": {},
   "outputs": [
    {
     "data": {
      "text/plain": [
       "[13]"
      ]
     },
     "execution_count": 50,
     "metadata": {},
     "output_type": "execute_result"
    }
   ],
   "source": [
    "lstb"
   ]
  },
  {
   "cell_type": "code",
   "execution_count": 52,
   "id": "72796041",
   "metadata": {},
   "outputs": [],
   "source": [
    "lstb.append(4.5324)"
   ]
  },
  {
   "cell_type": "code",
   "execution_count": 53,
   "id": "4076a4e5",
   "metadata": {},
   "outputs": [],
   "source": [
    "lstb.append(True)"
   ]
  },
  {
   "cell_type": "code",
   "execution_count": 54,
   "id": "d9b8b159",
   "metadata": {},
   "outputs": [],
   "source": [
    "lstb.append('hola mundo')"
   ]
  },
  {
   "cell_type": "code",
   "execution_count": 55,
   "id": "a5c44abc",
   "metadata": {},
   "outputs": [
    {
     "data": {
      "text/plain": [
       "[13, 4.5324, True, 'hola mundo']"
      ]
     },
     "execution_count": 55,
     "metadata": {},
     "output_type": "execute_result"
    }
   ],
   "source": [
    "lstb"
   ]
  },
  {
   "cell_type": "code",
   "execution_count": null,
   "id": "f876cb16",
   "metadata": {},
   "outputs": [],
   "source": []
  }
 ],
 "metadata": {
  "kernelspec": {
   "display_name": "Python 3 (ipykernel)",
   "language": "python",
   "name": "python3"
  },
  "language_info": {
   "codemirror_mode": {
    "name": "ipython",
    "version": 3
   },
   "file_extension": ".py",
   "mimetype": "text/x-python",
   "name": "python",
   "nbconvert_exporter": "python",
   "pygments_lexer": "ipython3",
   "version": "3.11.4"
  }
 },
 "nbformat": 4,
 "nbformat_minor": 5
}
