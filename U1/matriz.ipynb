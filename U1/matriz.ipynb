{
 "cells": [
  {
   "cell_type": "code",
   "execution_count": 1,
   "id": "09f2977c",
   "metadata": {},
   "outputs": [],
   "source": [
    "import pandas as pd\n",
    "import matplotlib as plt   #las librerias se tienen que importar cada que haga un nuevo codigo\n",
    "import numpy as np"
   ]
  },
  {
   "cell_type": "code",
   "execution_count": 64,
   "id": "75c49188",
   "metadata": {},
   "outputs": [],
   "source": [
    "datos = pd.read_csv(r'C:\\Users\\caroc\\Untitled Folder\\matriz1.csv')"
   ]
  },
  {
   "cell_type": "code",
   "execution_count": 71,
   "id": "131e2721",
   "metadata": {},
   "outputs": [
    {
     "data": {
      "text/html": [
       "<div>\n",
       "<style scoped>\n",
       "    .dataframe tbody tr th:only-of-type {\n",
       "        vertical-align: middle;\n",
       "    }\n",
       "\n",
       "    .dataframe tbody tr th {\n",
       "        vertical-align: top;\n",
       "    }\n",
       "\n",
       "    .dataframe thead th {\n",
       "        text-align: right;\n",
       "    }\n",
       "</style>\n",
       "<table border=\"1\" class=\"dataframe\">\n",
       "  <thead>\n",
       "    <tr style=\"text-align: right;\">\n",
       "      <th></th>\n",
       "      <th>1</th>\n",
       "      <th>2</th>\n",
       "      <th>3</th>\n",
       "      <th>4</th>\n",
       "    </tr>\n",
       "  </thead>\n",
       "  <tbody>\n",
       "    <tr>\n",
       "      <th>0</th>\n",
       "      <td>1</td>\n",
       "      <td>0.0</td>\n",
       "      <td>0.70</td>\n",
       "      <td>1.000</td>\n",
       "    </tr>\n",
       "    <tr>\n",
       "      <th>1</th>\n",
       "      <td>0</td>\n",
       "      <td>1.0</td>\n",
       "      <td>-3.46</td>\n",
       "      <td>-2.256</td>\n",
       "    </tr>\n",
       "    <tr>\n",
       "      <th>2</th>\n",
       "      <td>0</td>\n",
       "      <td>0.0</td>\n",
       "      <td>3.76</td>\n",
       "      <td>6.016</td>\n",
       "    </tr>\n",
       "  </tbody>\n",
       "</table>\n",
       "</div>"
      ],
      "text/plain": [
       "   1    2     3      4\n",
       "0  1  0.0  0.70  1.000\n",
       "1  0  1.0 -3.46 -2.256\n",
       "2  0  0.0  3.76  6.016"
      ]
     },
     "execution_count": 71,
     "metadata": {},
     "output_type": "execute_result"
    }
   ],
   "source": [
    "datos"
   ]
  },
  {
   "cell_type": "code",
   "execution_count": 66,
   "id": "de12ebeb",
   "metadata": {},
   "outputs": [],
   "source": [
    "for x in range(0,3):\n",
    "    reci = 1 / datos.iloc[x,x]\n",
    "    datos.iloc[x] = datos.iloc[x] * reci\n",
    "    multi1 = (datos.iloc[0] * datos.iloc[1,0]) * -1\n",
    "    multi2 = (datos.iloc[0] * datos.iloc[2,0]) * -1\n",
    "    datos.iloc[1] = datos.iloc[1]+multi1\n",
    "    datos.iloc[2] = datos.iloc[2]+multi2"
   ]
  },
  {
   "cell_type": "code",
   "execution_count": 68,
   "id": "2c67cec1",
   "metadata": {},
   "outputs": [],
   "source": [
    "for x in range(0,3):\n",
    "    reci = 1 / datos.iloc[x,x]\n",
    "    datos.iloc[x] = datos.iloc[x] * reci\n",
    "    multi1 = (datos.iloc[1] * datos.iloc[0,1]) * -1\n",
    "    multi2 = (datos.iloc[1] * datos.iloc[2,1]) * -1\n",
    "    datos.iloc[0] = datos.iloc[0]+multi1\n",
    "    datos.iloc[2] = datos.iloc[2]+multi2"
   ]
  },
  {
   "cell_type": "code",
   "execution_count": 70,
   "id": "f66a76a8",
   "metadata": {},
   "outputs": [],
   "source": [
    "for x in range(0,3):\n",
    "    reci = 1 / datos.iloc[x,x]\n",
    "    datos.iloc[x] = datos.iloc[x] * reci\n",
    "    multi1 = (datos.iloc[2] * datos.iloc[0,2]) * -1\n",
    "    multi2 = (datos.iloc[2] * datos.iloc[1,2]) * -1\n",
    "    datos.iloc[1] = datos.iloc[1]+multi1\n",
    "    datos.iloc[2] = datos.iloc[2]+multi2"
   ]
  },
  {
   "cell_type": "code",
   "execution_count": 43,
   "id": "be0f44c2",
   "metadata": {},
   "outputs": [],
   "source": []
  },
  {
   "cell_type": "code",
   "execution_count": null,
   "id": "16c4edc6",
   "metadata": {},
   "outputs": [],
   "source": []
  }
 ],
 "metadata": {
  "kernelspec": {
   "display_name": "Python 3 (ipykernel)",
   "language": "python",
   "name": "python3"
  },
  "language_info": {
   "codemirror_mode": {
    "name": "ipython",
    "version": 3
   },
   "file_extension": ".py",
   "mimetype": "text/x-python",
   "name": "python",
   "nbconvert_exporter": "python",
   "pygments_lexer": "ipython3",
   "version": "3.11.4"
  }
 },
 "nbformat": 4,
 "nbformat_minor": 5
}
