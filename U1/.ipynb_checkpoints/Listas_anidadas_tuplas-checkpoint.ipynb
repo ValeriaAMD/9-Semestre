{
 "cells": [
  {
   "cell_type": "code",
   "execution_count": 1,
   "id": "ba6fba0d",
   "metadata": {},
   "outputs": [],
   "source": [
    "lista=[1,2,3,4,5]"
   ]
  },
  {
   "cell_type": "code",
   "execution_count": 2,
   "id": "e45a2250",
   "metadata": {},
   "outputs": [
    {
     "data": {
      "text/plain": [
       "5"
      ]
     },
     "execution_count": 2,
     "metadata": {},
     "output_type": "execute_result"
    }
   ],
   "source": [
    "lista[4\n",
    "     ]"
   ]
  },
  {
   "cell_type": "code",
   "execution_count": 3,
   "id": "b5b88159",
   "metadata": {},
   "outputs": [],
   "source": [
    "listaanidada=[1,2,3,4,5,[6,7,8],[[1,2,3],[4,5,6],[10]]]\n",
    "############# 0 1 2 3 4    5   6  0       1      2\n",
    "#toda la lista anidada es una posision"
   ]
  },
  {
   "cell_type": "code",
   "execution_count": 4,
   "id": "4c5a6111",
   "metadata": {},
   "outputs": [
    {
     "data": {
      "text/plain": [
       "5"
      ]
     },
     "execution_count": 4,
     "metadata": {},
     "output_type": "execute_result"
    }
   ],
   "source": [
    "listaanidada[6][1][1]\n",
    "#el numero de listas que tenemos anidadas es el numero de corchetes con los que vamos a acceder"
   ]
  },
  {
   "cell_type": "code",
   "execution_count": 14,
   "id": "22e4a620",
   "metadata": {},
   "outputs": [],
   "source": [
    "# [] los corchetes son listas\n",
    "# {} las llaves son diccionario y sirven para clave:vlaor\n",
    "# () los parentesis son tuplas son inmutables"
   ]
  },
  {
   "cell_type": "code",
   "execution_count": 2,
   "id": "21e33837",
   "metadata": {},
   "outputs": [
    {
     "ename": "NameError",
     "evalue": "name 'listaanidada' is not defined",
     "output_type": "error",
     "traceback": [
      "\u001b[1;31m---------------------------------------------------------------------------\u001b[0m",
      "\u001b[1;31mNameError\u001b[0m                                 Traceback (most recent call last)",
      "Cell \u001b[1;32mIn[2], line 1\u001b[0m\n\u001b[1;32m----> 1\u001b[0m listaanidada\n",
      "\u001b[1;31mNameError\u001b[0m: name 'listaanidada' is not defined"
     ]
    }
   ],
   "source": [
    "listaanidada"
   ]
  },
  {
   "cell_type": "code",
   "execution_count": 18,
   "id": "69655cf9",
   "metadata": {},
   "outputs": [],
   "source": [
    "listaanidada[6][1].append(9)"
   ]
  },
  {
   "cell_type": "code",
   "execution_count": 1,
   "id": "d685f785",
   "metadata": {},
   "outputs": [
    {
     "ename": "NameError",
     "evalue": "name 'listaanidada' is not defined",
     "output_type": "error",
     "traceback": [
      "\u001b[1;31m---------------------------------------------------------------------------\u001b[0m",
      "\u001b[1;31mNameError\u001b[0m                                 Traceback (most recent call last)",
      "Cell \u001b[1;32mIn[1], line 1\u001b[0m\n\u001b[1;32m----> 1\u001b[0m listaanidada[\u001b[38;5;241m6\u001b[39m][\u001b[38;5;241m2\u001b[39m]\u001b[38;5;241m.\u001b[39minsert(\u001b[38;5;241m1\u001b[39m,\u001b[38;5;241m8\u001b[39m)\n",
      "\u001b[1;31mNameError\u001b[0m: name 'listaanidada' is not defined"
     ]
    }
   ],
   "source": [
    "listaanidada[6][2].insert(1,8)"
   ]
  },
  {
   "cell_type": "code",
   "execution_count": 23,
   "id": "bfc85237",
   "metadata": {},
   "outputs": [],
   "source": [
    "lstc=[13,33,45,68,45,[1,2,3]]"
   ]
  },
  {
   "cell_type": "code",
   "execution_count": 24,
   "id": "a5f675da",
   "metadata": {},
   "outputs": [
    {
     "data": {
      "text/plain": [
       "2"
      ]
     },
     "execution_count": 24,
     "metadata": {},
     "output_type": "execute_result"
    }
   ],
   "source": [
    "lstc[5].pop(1)"
   ]
  },
  {
   "cell_type": "code",
   "execution_count": 25,
   "id": "615fa265",
   "metadata": {},
   "outputs": [
    {
     "data": {
      "text/plain": [
       "3"
      ]
     },
     "execution_count": 25,
     "metadata": {},
     "output_type": "execute_result"
    }
   ],
   "source": [
    "lstc[5].pop(1)"
   ]
  },
  {
   "cell_type": "code",
   "execution_count": 26,
   "id": "6230f0ca",
   "metadata": {},
   "outputs": [
    {
     "data": {
      "text/plain": [
       "1"
      ]
     },
     "execution_count": 26,
     "metadata": {},
     "output_type": "execute_result"
    }
   ],
   "source": [
    "lstc[5].pop(0)"
   ]
  },
  {
   "cell_type": "code",
   "execution_count": 27,
   "id": "cc2ba22c",
   "metadata": {},
   "outputs": [
    {
     "data": {
      "text/plain": [
       "[13, 33, 45, 68, 45, []]"
      ]
     },
     "execution_count": 27,
     "metadata": {},
     "output_type": "execute_result"
    }
   ],
   "source": [
    "lstc"
   ]
  },
  {
   "cell_type": "code",
   "execution_count": 28,
   "id": "95d6c926",
   "metadata": {},
   "outputs": [],
   "source": [
    "lstc[5].append(4)"
   ]
  },
  {
   "cell_type": "code",
   "execution_count": 29,
   "id": "97a2c24f",
   "metadata": {},
   "outputs": [],
   "source": [
    "lstc[5].append(5)"
   ]
  },
  {
   "cell_type": "code",
   "execution_count": 30,
   "id": "0deb68fd",
   "metadata": {},
   "outputs": [],
   "source": [
    "lstc[5].append(6)"
   ]
  },
  {
   "cell_type": "code",
   "execution_count": 31,
   "id": "3a915462",
   "metadata": {},
   "outputs": [
    {
     "data": {
      "text/plain": [
       "[13, 33, 45, 68, 45, [4, 5, 6]]"
      ]
     },
     "execution_count": 31,
     "metadata": {},
     "output_type": "execute_result"
    }
   ],
   "source": [
    "lstc"
   ]
  },
  {
   "cell_type": "code",
   "execution_count": 32,
   "id": "8086d49e",
   "metadata": {},
   "outputs": [
    {
     "data": {
      "text/plain": [
       "[4, 5, 6]"
      ]
     },
     "execution_count": 32,
     "metadata": {},
     "output_type": "execute_result"
    }
   ],
   "source": [
    "lstc.pop(5)\n",
    "#elimina toda la lista anidada"
   ]
  },
  {
   "cell_type": "code",
   "execution_count": 33,
   "id": "2baef0fa",
   "metadata": {},
   "outputs": [],
   "source": [
    "lstc.append([7,8,9])\n",
    "#agrega toda la lista anidandola al final"
   ]
  },
  {
   "cell_type": "code",
   "execution_count": 34,
   "id": "e5b76c90",
   "metadata": {},
   "outputs": [
    {
     "data": {
      "text/plain": [
       "[13, 33, 45, 68, 45, [7, 8, 9]]"
      ]
     },
     "execution_count": 34,
     "metadata": {},
     "output_type": "execute_result"
    }
   ],
   "source": [
    "lstc"
   ]
  },
  {
   "cell_type": "code",
   "execution_count": 73,
   "id": "58c236d9",
   "metadata": {},
   "outputs": [],
   "source": [
    "lst=['m','x','z','a'] \n",
    "lstN=[13,33,45,68] \n",
    "lstD=[13,33,45,68,45,[1,2,3]]"
   ]
  },
  {
   "cell_type": "code",
   "execution_count": 70,
   "id": "79407df9",
   "metadata": {},
   "outputs": [
    {
     "data": {
      "text/plain": [
       "[13, 33, 45, 68, 45, [1, 2, 3]]"
      ]
     },
     "execution_count": 70,
     "metadata": {},
     "output_type": "execute_result"
    }
   ],
   "source": [
    "lstD"
   ]
  },
  {
   "cell_type": "code",
   "execution_count": 71,
   "id": "165112eb",
   "metadata": {},
   "outputs": [],
   "source": [
    "lstD.append([['m','x','z','a'],[13,33,45,68]])\n",
    "# tambien se puede hacer con palabras ([lst,lstN])"
   ]
  },
  {
   "cell_type": "code",
   "execution_count": 72,
   "id": "46862f9f",
   "metadata": {},
   "outputs": [
    {
     "data": {
      "text/plain": [
       "[13, 33, 45, 68, 45, [1, 2, 3], [['m', 'x', 'z', 'a'], [13, 33, 45, 68]]]"
      ]
     },
     "execution_count": 72,
     "metadata": {},
     "output_type": "execute_result"
    }
   ],
   "source": [
    "lstD"
   ]
  },
  {
   "cell_type": "code",
   "execution_count": null,
   "id": "ed84dfce",
   "metadata": {},
   "outputs": [],
   "source": [
    "#iterar es ir de paso a paso"
   ]
  },
  {
   "cell_type": "code",
   "execution_count": 75,
   "id": "f21fb6f8",
   "metadata": {},
   "outputs": [],
   "source": [
    "lst=[13,3.14,True,'hola']"
   ]
  },
  {
   "cell_type": "code",
   "execution_count": 76,
   "id": "89c6ed04",
   "metadata": {},
   "outputs": [
    {
     "data": {
      "text/plain": [
       "[13, 3.14, True, 'hola']"
      ]
     },
     "execution_count": 76,
     "metadata": {},
     "output_type": "execute_result"
    }
   ],
   "source": [
    "lst"
   ]
  },
  {
   "cell_type": "code",
   "execution_count": 77,
   "id": "4bb54992",
   "metadata": {},
   "outputs": [
    {
     "name": "stdout",
     "output_type": "stream",
     "text": [
      "13 es de tipo <class 'int'>\n",
      "3.14 es de tipo <class 'float'>\n",
      "True es de tipo <class 'bool'>\n",
      "hola es de tipo <class 'str'>\n"
     ]
    }
   ],
   "source": [
    "for x in lst:\n",
    "    print('{} es de tipo {}'.format(x,type(x)))"
   ]
  },
  {
   "cell_type": "code",
   "execution_count": 78,
   "id": "b3a86633",
   "metadata": {},
   "outputs": [],
   "source": [
    "#el for sirve para recorer una lista de principio a fin"
   ]
  },
  {
   "cell_type": "code",
   "execution_count": 79,
   "id": "21ce9e5b",
   "metadata": {},
   "outputs": [],
   "source": [
    "lsto=[2,4,6,8]"
   ]
  },
  {
   "cell_type": "code",
   "execution_count": 80,
   "id": "1f3d8e21",
   "metadata": {},
   "outputs": [
    {
     "name": "stdout",
     "output_type": "stream",
     "text": [
      "4 es de tipo <class 'int'>\n",
      "8 es de tipo <class 'int'>\n",
      "12 es de tipo <class 'int'>\n",
      "16 es de tipo <class 'int'>\n"
     ]
    }
   ],
   "source": [
    "for i in lsto:\n",
    "    print('{} es de tipo {}'.format(i*2,type(i)))"
   ]
  },
  {
   "cell_type": "code",
   "execution_count": 81,
   "id": "458f1d24",
   "metadata": {},
   "outputs": [],
   "source": [
    "#solo a las listas se les puede hacer un len"
   ]
  },
  {
   "cell_type": "code",
   "execution_count": 82,
   "id": "c98be58d",
   "metadata": {},
   "outputs": [],
   "source": [
    "lista=[45,456,76,767,[1,2,3],7,898,['a','b','c'],[True,False]]"
   ]
  },
  {
   "cell_type": "code",
   "execution_count": 83,
   "id": "79efcc76",
   "metadata": {},
   "outputs": [
    {
     "name": "stdout",
     "output_type": "stream",
     "text": [
      "45\n",
      "456\n",
      "76\n",
      "767\n",
      "1\n",
      "2\n",
      "3\n",
      "7\n",
      "898\n",
      "a\n",
      "b\n",
      "c\n",
      "True\n",
      "False\n"
     ]
    }
   ],
   "source": [
    "for x in lista:\n",
    "    try:\n",
    "        len(x) #intenta contar valores en una lista\n",
    "    except:\n",
    "        print(x) #si no hay lista continua contando cada numero \n",
    "        continue\n",
    "    for y in x: #llega a una lista y muestra los valores de la lista\n",
    "        print(y)"
   ]
  },
  {
   "cell_type": "code",
   "execution_count": 86,
   "id": "c725933c",
   "metadata": {},
   "outputs": [],
   "source": [
    "var=6"
   ]
  },
  {
   "cell_type": "code",
   "execution_count": 87,
   "id": "9abb0746",
   "metadata": {},
   "outputs": [
    {
     "name": "stdout",
     "output_type": "stream",
     "text": [
      "9\n"
     ]
    }
   ],
   "source": [
    "try:\n",
    "    num=0\n",
    "    num=var+3 #intenta tomar el valor numerico y lo suma a 3\n",
    "except:\n",
    "    print('no se ingreso un numero ') #lo vlaida y si no hay numero, muesta el print\n",
    "finally: \n",
    "    print(num)  #si agrego el numero, muestra el resultado final de la operacion"
   ]
  },
  {
   "cell_type": "code",
   "execution_count": 88,
   "id": "81c253b0",
   "metadata": {},
   "outputs": [],
   "source": [
    "#TUPLAS"
   ]
  },
  {
   "cell_type": "code",
   "execution_count": 89,
   "id": "2f4e5c48",
   "metadata": {},
   "outputs": [],
   "source": [
    "t=(234,2224,'hola!')"
   ]
  },
  {
   "cell_type": "code",
   "execution_count": 91,
   "id": "fa7abf8f",
   "metadata": {},
   "outputs": [
    {
     "data": {
      "text/plain": [
       "'hola!'"
      ]
     },
     "execution_count": 91,
     "metadata": {},
     "output_type": "execute_result"
    }
   ],
   "source": [
    "t[2]"
   ]
  },
  {
   "cell_type": "code",
   "execution_count": 92,
   "id": "4771272b",
   "metadata": {},
   "outputs": [],
   "source": [
    "u =(t,23,23,5)"
   ]
  },
  {
   "cell_type": "code",
   "execution_count": 93,
   "id": "ebc65f6a",
   "metadata": {},
   "outputs": [
    {
     "data": {
      "text/plain": [
       "((234, 2224, 'hola!'), 23, 23, 5)"
      ]
     },
     "execution_count": 93,
     "metadata": {},
     "output_type": "execute_result"
    }
   ],
   "source": [
    "u"
   ]
  },
  {
   "cell_type": "code",
   "execution_count": 94,
   "id": "444e31ff",
   "metadata": {},
   "outputs": [
    {
     "data": {
      "text/plain": [
       "'hola!'"
      ]
     },
     "execution_count": 94,
     "metadata": {},
     "output_type": "execute_result"
    }
   ],
   "source": [
    "u[0][2]"
   ]
  },
  {
   "cell_type": "code",
   "execution_count": 95,
   "id": "70009c1a",
   "metadata": {},
   "outputs": [],
   "source": [
    "lista=[1,2,3,4]"
   ]
  },
  {
   "cell_type": "code",
   "execution_count": 96,
   "id": "ee2d44b2",
   "metadata": {},
   "outputs": [],
   "source": [
    "tup=('esta es una tupla')"
   ]
  },
  {
   "cell_type": "code",
   "execution_count": 98,
   "id": "1d32bb47",
   "metadata": {},
   "outputs": [],
   "source": [
    "tupla=(lista,tup)"
   ]
  },
  {
   "cell_type": "code",
   "execution_count": 102,
   "id": "b6bceaf7",
   "metadata": {},
   "outputs": [
    {
     "data": {
      "text/plain": [
       "([1, 2, 3, 4, 'list'], 'esta es una tupla')"
      ]
     },
     "execution_count": 102,
     "metadata": {},
     "output_type": "execute_result"
    }
   ],
   "source": [
    "tupla  #la tupla puede tener una lista y solo la lista se puede modificar\n",
    "       #pero no se puede eliminar ni mover de lugar"
   ]
  },
  {
   "cell_type": "code",
   "execution_count": 103,
   "id": "0c09fbb2",
   "metadata": {},
   "outputs": [],
   "source": [
    "tupla[0].append('list')"
   ]
  },
  {
   "cell_type": "code",
   "execution_count": 104,
   "id": "7f76e659",
   "metadata": {},
   "outputs": [],
   "source": [
    "lista_tuplas=[(1,2),(12,34),(345),2,3]"
   ]
  },
  {
   "cell_type": "code",
   "execution_count": 107,
   "id": "58d0bf2a",
   "metadata": {},
   "outputs": [
    {
     "data": {
      "text/plain": [
       "[3, (12, 34), 345, 2, 3]"
      ]
     },
     "execution_count": 107,
     "metadata": {},
     "output_type": "execute_result"
    }
   ],
   "source": [
    "lista_tuplas #las tuplas dentro de la lista si se pueden modificar por que\n",
    "             # lo que se modifica es la lista no la tupla"
   ]
  },
  {
   "cell_type": "code",
   "execution_count": 106,
   "id": "6e95a456",
   "metadata": {},
   "outputs": [],
   "source": [
    "lista_tuplas[0]=3"
   ]
  },
  {
   "cell_type": "code",
   "execution_count": null,
   "id": "a6a4547f",
   "metadata": {},
   "outputs": [],
   "source": []
  }
 ],
 "metadata": {
  "kernelspec": {
   "display_name": "Python 3 (ipykernel)",
   "language": "python",
   "name": "python3"
  },
  "language_info": {
   "codemirror_mode": {
    "name": "ipython",
    "version": 3
   },
   "file_extension": ".py",
   "mimetype": "text/x-python",
   "name": "python",
   "nbconvert_exporter": "python",
   "pygments_lexer": "ipython3",
   "version": "3.11.4"
  }
 },
 "nbformat": 4,
 "nbformat_minor": 5
}
