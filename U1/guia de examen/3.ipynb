{
 "cells": [
  {
   "cell_type": "code",
   "execution_count": 3,
   "id": "110da7cd",
   "metadata": {},
   "outputs": [],
   "source": [
    "#Crear una carpeta dentro de nuestra carpeta principal para el\n",
    "  #  ejercicio de módulos y paquetes.\n",
    "   # a. Crear una carpeta para un paquete de Python.\n",
    "#    b. Convertir esa carpeta en paquete.\n",
    " #   Dentro del paquete generar 4 diferentes modulo para\n",
    "  #  las siguientes funciones (estas cuatro funciones deben\n",
    "#    ser capaces de leer dos datos de tipo numérico para\n",
    " #   operar y retornar el resultado):\n",
    "  #  i. Multiplicar.\n",
    "   # ii. Elevar a una potencia.\n",
    "  #  iii. Obtener raíces.\n",
    "   # iv. Obtener la suma de los recíprocos."
   ]
  },
  {
   "cell_type": "code",
   "execution_count": 1,
   "id": "1fcce6a3",
   "metadata": {},
   "outputs": [],
   "source": [
    "#c. Crear un script principal donde al iniciar nos muestre las\n",
    "#4 opciones de operaciones a elegir, después de elegir 1,\n",
    "#pedir los 2 números al usuario para dar el resultado de\n",
    "#la operación, este proceso debe estar dentro de un ciclo,\n",
    "#para que el usuario pueda hacer cuantas operaciones\n",
    "#quiera, al final de cada iteración debe preguntarse al\n",
    "#usuario si desea continuar o no con el ciclo, si es si,\n",
    "#volvemos al menú de operaciones, si es no, salimos del\n",
    "#ciclo, imprime “adios” y finaliza el script."
   ]
  },
  {
   "cell_type": "code",
   "execution_count": 22,
   "id": "f51ec80a",
   "metadata": {},
   "outputs": [
    {
     "name": "stdout",
     "output_type": "stream",
     "text": [
      "selecciona una opcion\n",
      "opcion 1 - Multiplicar\n",
      "opcion 2 - Elevar a una potencia\n",
      "opcion 3 - Obtener raíces\n",
      "opcion 4 - Obtener la suma de los recíprocos.\n",
      "\n",
      "elija una de las 4 opciones: 1\n",
      "numero 1: 2\n",
      "numero 2: 2\n",
      "el resultado de su multiplicacion es:  4\n"
     ]
    }
   ],
   "source": [
    "opcion=\"\"\"selecciona una opcion\n",
    "opcion 1 - Multiplicar\n",
    "opcion 2 - Elevar a una potencia\n",
    "opcion 3 - Obtener raíces\n",
    "opcion 4 - Obtener la suma de los recíprocos.\n",
    "\"\"\"\n",
    "print(opcion)  \n",
    "x= int(input('elija una de las 4 opciones: '))\n",
    "if x == 1 or x == 2 or x == 3 or x == 4:  \n",
    "    if x == 1:\n",
    "        z = int(input('numero 1: '))\n",
    "        y = int(input('numero 2: '))\n",
    "        def mult(z,y):\n",
    "            return  z*y\n",
    "        print('el resultado de su multiplicacion es: ', mult(z,y))\n",
    "    elif x == 2:\n",
    "        z = int(input('numero 1: '))\n",
    "        y = int(input('numero 2: '))\n",
    "        def pot(z,y):\n",
    "            return z**y\n",
    "        print('el resultado de elevar a una potenca es: ',pot(z,y))\n",
    "    elif x == 3:\n",
    "        z = int(input('numero 1: '))\n",
    "        def raiz(z):\n",
    "            return z**(0.5)\n",
    "        print('el resultado para obtener la raiz es :',raiz(z))\n",
    "    elif x == 4:\n",
    "        z = int(input('numero 1: '))\n",
    "        def rec(z):\n",
    "            return 1/z\n",
    "        print('el resultado es: ',rec(z)) \n",
    "else:\n",
    "    print('no eligio la opcion correcta')\n",
    "    \n",
    "    #se utiliza un while con banderas de true o false para poder ciclar las operaciones o salir de ellas "
   ]
  },
  {
   "cell_type": "code",
   "execution_count": 1,
   "id": "a2c6bf3f",
   "metadata": {},
   "outputs": [
    {
     "name": "stdout",
     "output_type": "stream",
     "text": [
      "Selecciona una opción:\n",
      "    Opción 1 - Multiplicar\n",
      "    Opción 2 - Elevar a una potencia\n",
      "    Opción 3 - Obtener raíces\n",
      "    Opción 4 - Obtener la suma de los recíprocos\n",
      "    Opción 5 - Salir\n",
      "    \n",
      "Elige una de las 5 opciones: 1\n",
      "Número 1: 3\n",
      "Número 2: 4\n",
      "El resultado de su multiplicación es: 12\n",
      "Selecciona una opción:\n",
      "    Opción 1 - Multiplicar\n",
      "    Opción 2 - Elevar a una potencia\n",
      "    Opción 3 - Obtener raíces\n",
      "    Opción 4 - Obtener la suma de los recíprocos\n",
      "    Opción 5 - Salir\n",
      "    \n",
      "Elige una de las 5 opciones: 3\n",
      "Número 1: 4\n",
      "El resultado para obtener la raíz es: 2.0\n",
      "Selecciona una opción:\n",
      "    Opción 1 - Multiplicar\n",
      "    Opción 2 - Elevar a una potencia\n",
      "    Opción 3 - Obtener raíces\n",
      "    Opción 4 - Obtener la suma de los recíprocos\n",
      "    Opción 5 - Salir\n",
      "    \n",
      "Elige una de las 5 opciones: 5\n",
      "Saliendo del programa.\n"
     ]
    }
   ],
   "source": [
    "while True:\n",
    "    opcion = \"\"\"Selecciona una opción:\n",
    "    Opción 1 - Multiplicar\n",
    "    Opción 2 - Elevar a una potencia\n",
    "    Opción 3 - Obtener raíces\n",
    "    Opción 4 - Obtener la suma de los recíprocos\n",
    "    Opción 5 - Salir\n",
    "    \"\"\"\n",
    "    print(opcion)\n",
    "    x = int(input('Elige una de las 5 opciones: '))\n",
    "    \n",
    "    if x == 1:\n",
    "        z = int(input('Número 1: '))\n",
    "        y = int(input('Número 2: '))\n",
    "        def mult(z, y):\n",
    "            return z * y\n",
    "        print('El resultado de su multiplicación es:', mult(z, y))\n",
    "    elif x == 2:\n",
    "        z = int(input('Número 1: '))\n",
    "        y = int(input('Número 2: '))\n",
    "        def pot(z, y):\n",
    "            return z ** y\n",
    "        print('El resultado de elevar a una potencia es:', pot(z, y))\n",
    "    elif x == 3:\n",
    "        z = int(input('Número 1: '))\n",
    "        def raiz(z):\n",
    "            return z ** 0.5\n",
    "        print('El resultado para obtener la raíz es:', raiz(z))\n",
    "    elif x == 4:\n",
    "        z = int(input('Número 1: '))\n",
    "        def rec(z):\n",
    "            return 1 / z\n",
    "        print('El resultado es:', rec(z))\n",
    "    elif x == 5:\n",
    "        print('Saliendo del programa.')\n",
    "        break  # Sale del ciclo while si el usuario elige la opción 5\n",
    "    else:\n",
    "        print('No eligió una opción válida')\n",
    "\n",
    "# El programa continuará ejecutándose hasta que el usuario elija la opción 5 para salir.\n"
   ]
  },
  {
   "cell_type": "code",
   "execution_count": null,
   "id": "d1abad5e",
   "metadata": {},
   "outputs": [],
   "source": []
  }
 ],
 "metadata": {
  "kernelspec": {
   "display_name": "Python 3 (ipykernel)",
   "language": "python",
   "name": "python3"
  },
  "language_info": {
   "codemirror_mode": {
    "name": "ipython",
    "version": 3
   },
   "file_extension": ".py",
   "mimetype": "text/x-python",
   "name": "python",
   "nbconvert_exporter": "python",
   "pygments_lexer": "ipython3",
   "version": "3.11.4"
  }
 },
 "nbformat": 4,
 "nbformat_minor": 5
}
