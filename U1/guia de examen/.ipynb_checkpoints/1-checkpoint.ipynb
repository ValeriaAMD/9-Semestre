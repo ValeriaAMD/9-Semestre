{
 "cells": [
  {
   "cell_type": "code",
   "execution_count": 1,
   "id": "5595ffce",
   "metadata": {},
   "outputs": [],
   "source": [
    "# crear un script que imprima los numeros del 1 al 100 con un ciclo for "
   ]
  },
  {
   "cell_type": "code",
   "execution_count": 4,
   "id": "34f3d60d",
   "metadata": {},
   "outputs": [
    {
     "name": "stdout",
     "output_type": "stream",
     "text": [
      ": 1\n",
      ": 2\n",
      ": 3\n",
      ": 4\n",
      ": 5\n",
      ": 6\n",
      ": 7\n",
      ": 8\n",
      ": 9\n",
      ": 10\n"
     ]
    }
   ],
   "source": [
    "for i in range(1,11):       ##usa un for con un rango del 1 al 100 e imprime los numeros dentro del rango\n",
    "    print(': {}'.format(i))"
   ]
  },
  {
   "cell_type": "code",
   "execution_count": 3,
   "id": "53207c51",
   "metadata": {},
   "outputs": [],
   "source": [
    "## a) con un nuevo for, imprimir solo los valores pares"
   ]
  },
  {
   "cell_type": "code",
   "execution_count": 17,
   "id": "b45f85b5",
   "metadata": {},
   "outputs": [
    {
     "name": "stdout",
     "output_type": "stream",
     "text": [
      "2\n",
      "4\n",
      "6\n",
      "8\n",
      "10\n"
     ]
    }
   ],
   "source": [
    "for i in range(1, 11): #guarda los numeros del rango del 1 al 100 \n",
    "    if i % 2 == 0:      # y con el operador calcula si es divisivle entre 2 y si da un 0 \n",
    "                         #imprime el numero par\n",
    "        print(i)"
   ]
  },
  {
   "cell_type": "code",
   "execution_count": 5,
   "id": "5a3c7e55",
   "metadata": {},
   "outputs": [],
   "source": [
    "### b) con un nuevo for guardar los numeros del 1 al 50 en una lista"
   ]
  },
  {
   "cell_type": "code",
   "execution_count": 30,
   "id": "e9d9138d",
   "metadata": {},
   "outputs": [
    {
     "name": "stdout",
     "output_type": "stream",
     "text": [
      "[1, 2, 3, 4, 5, 6, 7, 8, 9, 10, 11, 12, 13, 14, 15, 16, 17, 18, 19, 20, 21, 22, 23, 24, 25, 26, 27, 28, 29, 30, 31, 32, 33, 34, 35, 36, 37, 38, 39, 40, 41, 42, 43, 44, 45, 46, 47, 48, 49, 50]\n"
     ]
    }
   ],
   "source": [
    "lista= []\n",
    "for j in range(1,51):\n",
    "    lista.append(j)\n",
    "print(lista)"
   ]
  },
  {
   "cell_type": "code",
   "execution_count": 32,
   "id": "8d567e7e",
   "metadata": {},
   "outputs": [
    {
     "name": "stdout",
     "output_type": "stream",
     "text": [
      "[1]\n",
      "[1, 2]\n",
      "[1, 2, 3]\n",
      "[1, 2, 3, 4]\n",
      "[1, 2, 3, 4, 5]\n",
      "[1, 2, 3, 4, 5, 6]\n",
      "[1, 2, 3, 4, 5, 6, 7]\n",
      "[1, 2, 3, 4, 5, 6, 7, 8]\n",
      "[1, 2, 3, 4, 5, 6, 7, 8, 9]\n",
      "[1, 2, 3, 4, 5, 6, 7, 8, 9, 10]\n"
     ]
    }
   ],
   "source": [
    "#ejemplo de indexacion erronea\n",
    "lista= []\n",
    "for j in range(1,11):\n",
    "    lista.append(j)\n",
    "    print(lista)"
   ]
  },
  {
   "cell_type": "code",
   "execution_count": null,
   "id": "0a2c3657",
   "metadata": {},
   "outputs": [],
   "source": []
  }
 ],
 "metadata": {
  "kernelspec": {
   "display_name": "Python 3 (ipykernel)",
   "language": "python",
   "name": "python3"
  },
  "language_info": {
   "codemirror_mode": {
    "name": "ipython",
    "version": 3
   },
   "file_extension": ".py",
   "mimetype": "text/x-python",
   "name": "python",
   "nbconvert_exporter": "python",
   "pygments_lexer": "ipython3",
   "version": "3.11.4"
  }
 },
 "nbformat": 4,
 "nbformat_minor": 5
}
