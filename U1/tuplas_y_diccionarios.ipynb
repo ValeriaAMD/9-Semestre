{
 "cells": [
  {
   "cell_type": "code",
   "execution_count": 1,
   "id": "5ddc1831",
   "metadata": {},
   "outputs": [],
   "source": [
    "#TUPLAS"
   ]
  },
  {
   "cell_type": "code",
   "execution_count": 2,
   "id": "f8415d8b",
   "metadata": {},
   "outputs": [],
   "source": [
    "t=(234,2224,'hola!')"
   ]
  },
  {
   "cell_type": "code",
   "execution_count": 3,
   "id": "3757ceb0",
   "metadata": {},
   "outputs": [
    {
     "data": {
      "text/plain": [
       "'hola!'"
      ]
     },
     "execution_count": 3,
     "metadata": {},
     "output_type": "execute_result"
    }
   ],
   "source": [
    "t[2]"
   ]
  },
  {
   "cell_type": "code",
   "execution_count": 4,
   "id": "a6a483a8",
   "metadata": {},
   "outputs": [],
   "source": [
    "u =(t,23,23,5)"
   ]
  },
  {
   "cell_type": "code",
   "execution_count": 5,
   "id": "9d19e1bc",
   "metadata": {},
   "outputs": [
    {
     "data": {
      "text/plain": [
       "((234, 2224, 'hola!'), 23, 23, 5)"
      ]
     },
     "execution_count": 5,
     "metadata": {},
     "output_type": "execute_result"
    }
   ],
   "source": [
    "u"
   ]
  },
  {
   "cell_type": "code",
   "execution_count": 6,
   "id": "54385472",
   "metadata": {},
   "outputs": [
    {
     "data": {
      "text/plain": [
       "'hola!'"
      ]
     },
     "execution_count": 6,
     "metadata": {},
     "output_type": "execute_result"
    }
   ],
   "source": [
    "u[0][2]"
   ]
  },
  {
   "cell_type": "code",
   "execution_count": 7,
   "id": "d25de9b9",
   "metadata": {},
   "outputs": [],
   "source": [
    "lista=[1,2,3,4]"
   ]
  },
  {
   "cell_type": "code",
   "execution_count": 8,
   "id": "cb5cdbc3",
   "metadata": {},
   "outputs": [],
   "source": [
    "tup=('esta es una tupla')"
   ]
  },
  {
   "cell_type": "code",
   "execution_count": 9,
   "id": "9262bb27",
   "metadata": {},
   "outputs": [],
   "source": [
    "tupla=(lista,tup)"
   ]
  },
  {
   "cell_type": "code",
   "execution_count": 10,
   "id": "82a3054d",
   "metadata": {},
   "outputs": [
    {
     "data": {
      "text/plain": [
       "([1, 2, 3, 4], 'esta es una tupla')"
      ]
     },
     "execution_count": 10,
     "metadata": {},
     "output_type": "execute_result"
    }
   ],
   "source": [
    "tupla  #la tupla puede tener una lista y solo la lista se puede modificar\n",
    "       #pero no se puede eliminar ni mover de lugar"
   ]
  },
  {
   "cell_type": "code",
   "execution_count": 11,
   "id": "feb3339d",
   "metadata": {},
   "outputs": [],
   "source": [
    "tupla[0].append('list')"
   ]
  },
  {
   "cell_type": "code",
   "execution_count": 12,
   "id": "2a1677d5",
   "metadata": {},
   "outputs": [],
   "source": [
    "lista_tuplas=[(1,2),(12,34),(345),2,3]"
   ]
  },
  {
   "cell_type": "code",
   "execution_count": 15,
   "id": "2cc7b70c",
   "metadata": {},
   "outputs": [
    {
     "data": {
      "text/plain": [
       "[3, (12, 34), 345, 2, 3]"
      ]
     },
     "execution_count": 15,
     "metadata": {},
     "output_type": "execute_result"
    }
   ],
   "source": [
    "lista_tuplas #las tuplas dentro de la lista si se pueden modificar por que\n",
    "             # lo que se modifica es la lista no la tupla"
   ]
  },
  {
   "cell_type": "code",
   "execution_count": 14,
   "id": "24eaa7ae",
   "metadata": {},
   "outputs": [],
   "source": [
    "lista_tuplas[0]=3"
   ]
  },
  {
   "cell_type": "code",
   "execution_count": 16,
   "id": "bf8d0baa",
   "metadata": {},
   "outputs": [],
   "source": [
    "#DICCIONARIO"
   ]
  },
  {
   "cell_type": "code",
   "execution_count": 32,
   "id": "5ecb31da",
   "metadata": {},
   "outputs": [],
   "source": [
    "cali={'vale':10,'karla':7.0,'mario':6} #'clave':valor"
   ]
  },
  {
   "cell_type": "code",
   "execution_count": 20,
   "id": "165aec51",
   "metadata": {},
   "outputs": [],
   "source": [
    "cali['a']='algo' #si tengo una clave que no existe la agrega "
   ]
  },
  {
   "cell_type": "code",
   "execution_count": 26,
   "id": "9859e086",
   "metadata": {},
   "outputs": [
    {
     "data": {
      "text/plain": [
       "{'vale': 10, 'karla': 10, 'mario': 6, 'a': 'algo'}"
      ]
     },
     "execution_count": 26,
     "metadata": {},
     "output_type": "execute_result"
    }
   ],
   "source": [
    "cali"
   ]
  },
  {
   "cell_type": "code",
   "execution_count": 24,
   "id": "72e022ed",
   "metadata": {},
   "outputs": [],
   "source": [
    "#formas de modificar el valor de la clave\n",
    "cali['karla']=9 "
   ]
  },
  {
   "cell_type": "code",
   "execution_count": 25,
   "id": "af9356a3",
   "metadata": {},
   "outputs": [],
   "source": [
    "cali.update({'karla':10})"
   ]
  },
  {
   "cell_type": "code",
   "execution_count": 27,
   "id": "c70dac02",
   "metadata": {},
   "outputs": [
    {
     "data": {
      "text/plain": [
       "6"
      ]
     },
     "execution_count": 27,
     "metadata": {},
     "output_type": "execute_result"
    }
   ],
   "source": [
    "#formas de eliminar\n",
    "cali.pop('mario')"
   ]
  },
  {
   "cell_type": "code",
   "execution_count": 30,
   "id": "04d976c9",
   "metadata": {},
   "outputs": [],
   "source": [
    "del cali['a']"
   ]
  },
  {
   "cell_type": "code",
   "execution_count": 31,
   "id": "86f0d91e",
   "metadata": {},
   "outputs": [
    {
     "data": {
      "text/plain": [
       "{'vale': 10, 'karla': 10}"
      ]
     },
     "execution_count": 31,
     "metadata": {},
     "output_type": "execute_result"
    }
   ],
   "source": [
    "cali"
   ]
  },
  {
   "cell_type": "code",
   "execution_count": 33,
   "id": "78771592",
   "metadata": {},
   "outputs": [
    {
     "data": {
      "text/plain": [
       "dict_keys(['vale', 'karla', 'mario'])"
      ]
     },
     "execution_count": 33,
     "metadata": {},
     "output_type": "execute_result"
    }
   ],
   "source": [
    "#para consultar \n",
    "cali.keys() #keys consulta las claves"
   ]
  },
  {
   "cell_type": "code",
   "execution_count": 34,
   "id": "ff3234fa",
   "metadata": {},
   "outputs": [
    {
     "data": {
      "text/plain": [
       "dict_values([10, 7.0, 6])"
      ]
     },
     "execution_count": 34,
     "metadata": {},
     "output_type": "execute_result"
    }
   ],
   "source": [
    "cali.values() #values consulta el valor de la clave"
   ]
  },
  {
   "cell_type": "code",
   "execution_count": 35,
   "id": "06f01eae",
   "metadata": {},
   "outputs": [
    {
     "data": {
      "text/plain": [
       "10"
      ]
     },
     "execution_count": 35,
     "metadata": {},
     "output_type": "execute_result"
    }
   ],
   "source": [
    "cali.get('vale') #aqui se consulta un valor en especifico segun la clave "
   ]
  },
  {
   "cell_type": "code",
   "execution_count": 36,
   "id": "badef173",
   "metadata": {},
   "outputs": [],
   "source": [
    "#por la estuctura es mejor empezar por crear un diccionario\n",
    "alu={\n",
    "    'nombre':'valeria',\n",
    "    'apellido': ['campos','hernandez'], #los apellidos en una lista para permitir cambios o eliminar \n",
    "    'calificacion':(10,10,10) #se ponen las calificaciones en una tupla para no poder cambiarlos\n",
    "}"
   ]
  },
  {
   "cell_type": "code",
   "execution_count": 41,
   "id": "72fd47e4",
   "metadata": {},
   "outputs": [
    {
     "data": {
      "text/plain": [
       "{'nombre': 'carolina',\n",
       " 'apellido': ['campos', 'hernandez'],\n",
       " 'calificacion': (10, 10, 10)}"
      ]
     },
     "execution_count": 41,
     "metadata": {},
     "output_type": "execute_result"
    }
   ],
   "source": [
    "alu"
   ]
  },
  {
   "cell_type": "code",
   "execution_count": 40,
   "id": "84d7ecb7",
   "metadata": {},
   "outputs": [],
   "source": [
    "alu['nombre']='carolina' "
   ]
  },
  {
   "cell_type": "code",
   "execution_count": 43,
   "id": "3a53b86c",
   "metadata": {},
   "outputs": [],
   "source": [
    "alumnos=[{'nombre':'valeria',\n",
    "    'apellido': ['campos','hernandez'], \n",
    "    'calificacion':(10,10,10)},\n",
    "       { 'nombre':'valeria',\n",
    "    'apellido': ['campos','hernandez'], \n",
    "    'calificacion':(10,10,10)}]\n"
   ]
  },
  {
   "cell_type": "code",
   "execution_count": 44,
   "id": "fc4d5d16",
   "metadata": {},
   "outputs": [
    {
     "data": {
      "text/plain": [
       "[{'nombre': 'valeria',\n",
       "  'apellido': ['campos', 'hernandez'],\n",
       "  'calificacion': (10, 10, 10)},\n",
       " {'nombre': 'valeria',\n",
       "  'apellido': ['campos', 'hernandez'],\n",
       "  'calificacion': (10, 10, 10)}]"
      ]
     },
     "execution_count": 44,
     "metadata": {},
     "output_type": "execute_result"
    }
   ],
   "source": [
    "alumnos #se puede hacer una lista con varios diccionarios "
   ]
  },
  {
   "cell_type": "code",
   "execution_count": 45,
   "id": "c9335d52",
   "metadata": {},
   "outputs": [],
   "source": [
    "#PRACTICA"
   ]
  },
  {
   "cell_type": "code",
   "execution_count": 46,
   "id": "8341646e",
   "metadata": {},
   "outputs": [],
   "source": [
    "dicc={\n",
    "    'hugo':10,\n",
    "    'daniel':7.7,\n",
    "    'marcos':9.8,\n",
    "    'adrian':5.4,\n",
    "    'jorge':8,\n",
    "    'andrea':9\n",
    "}"
   ]
  },
  {
   "cell_type": "code",
   "execution_count": 47,
   "id": "8dd49bee",
   "metadata": {},
   "outputs": [],
   "source": [
    "dicc['hugo']=[10,9,'m',True]"
   ]
  },
  {
   "cell_type": "code",
   "execution_count": 62,
   "id": "a0d0eabd",
   "metadata": {},
   "outputs": [
    {
     "data": {
      "text/plain": [
       "{'hugo': [10, 9, 'm', True],\n",
       " 'daniel': [7.7, 7, 'm', False],\n",
       " 'marcos': [9.8, 9, 'm', True],\n",
       " 'adrian': [5.4, 9, 'm', False],\n",
       " 'jorge': [8, 10, 'm', True],\n",
       " 'andrea': [9, 9, 'f', True]}"
      ]
     },
     "execution_count": 62,
     "metadata": {},
     "output_type": "execute_result"
    }
   ],
   "source": [
    "dicc"
   ]
  },
  {
   "cell_type": "code",
   "execution_count": 61,
   "id": "f53383bd",
   "metadata": {},
   "outputs": [],
   "source": [
    "dicc.update({'andrea':[9,9,'f',True]})"
   ]
  },
  {
   "cell_type": "code",
   "execution_count": 63,
   "id": "cd18e202",
   "metadata": {},
   "outputs": [],
   "source": [
    "#DICCIONARIOS Y CICLOS"
   ]
  },
  {
   "cell_type": "code",
   "execution_count": 67,
   "id": "296861d8",
   "metadata": {},
   "outputs": [],
   "source": [
    "# crear una lista con 4 diccionarios agregando las variables a los diccionarios(clave:valor)\n",
    "nombre='vale'\n",
    "calP=10\n",
    "calBD=10\n",
    "genero='f'\n",
    "edad=22\n",
    "beca='no'\n",
    "domi='pabellon'\n",
    "cel=4567778899\n",
    "email='correo.com'\n",
    "dic={'nombre': ,'calP': ,'calBD': ,'genero': ,'edad': ,'beca': ,'domi': ,'cel': ,'email': }\n",
    "lista=[{},{},{},{}]"
   ]
  },
  {
   "cell_type": "code",
   "execution_count": 7,
   "id": "a903f0a2",
   "metadata": {},
   "outputs": [
    {
     "name": "stdout",
     "output_type": "stream",
     "text": [
      "nombre: Valeria\n",
      "Programacion: 10\n",
      "Base de datos: 10\n",
      "genero: f\n",
      "edad: 22\n",
      "beca: no\n",
      "domicilio: pabellon\n",
      "celular: 4651190280\n",
      "email: caro@gmail.com\n",
      "nombre: Karla\n",
      "Programacion: 10\n",
      "Base de datos: 10\n",
      "genero: f\n",
      "edad: 22\n",
      "beca: no\n",
      "domicilio: el barranco\n",
      "celular: 4651163338\n",
      "email: alrak@gmail.com\n",
      "nombre: Mario\n",
      "Programacion: 10\n",
      "Base de datos: 9\n",
      "genero: m\n",
      "edad: 22\n",
      "beca: si\n",
      "domicilio: aguascalientes\n",
      "celular: 4651206767\n",
      "email: mariooo@gamil.com\n",
      "nombre: Tomas\n",
      "Programacion: 8\n",
      "Base de datos: 7\n",
      "genero: m\n",
      "edad: 22\n",
      "beca: si\n",
      "domicilio: el milagro\n",
      "celular: 4659990099\n",
      "email: tomas@gmail.com\n",
      "esta es la lista de los estudiantes que agrego: [{'nombre': 'Valeria', 'programacion': 10, 'base de datos': 10, 'genero': 'f', 'edad': 22, 'beca': 'no', 'domicilio': 'pabellon', 'celular': 4651190280, 'email': 'caro@gmail.com'}, {'nombre': 'Karla', 'programacion': 10, 'base de datos': 10, 'genero': 'f', 'edad': 22, 'beca': 'no', 'domicilio': 'el barranco', 'celular': 4651163338, 'email': 'alrak@gmail.com'}, {'nombre': 'Mario', 'programacion': 10, 'base de datos': 9, 'genero': 'm', 'edad': 22, 'beca': 'si', 'domicilio': 'aguascalientes', 'celular': 4651206767, 'email': 'mariooo@gamil.com'}, {'nombre': 'Tomas', 'programacion': 8, 'base de datos': 7, 'genero': 'm', 'edad': 22, 'beca': 'si', 'domicilio': 'el milagro', 'celular': 4659990099, 'email': 'tomas@gmail.com'}] \n"
     ]
    }
   ],
   "source": [
    "lista = []  #se crea la lista\n",
    "for x in range(4):  #ponemos un rango en el que se repetiran los input\n",
    "    dic = {}\n",
    "    x = str(input('nombre: '))          #agregamos los valores para cada diccionario\n",
    "    y = int(input('Programacion: '))\n",
    "    z = int(input('Base de datos: '))\n",
    "    w = str(input('genero: '))\n",
    "    t = int(input('edad: '))\n",
    "    u = str(input('beca: '))\n",
    "    v = str(input('domicilio: '))\n",
    "    p = int(input('celular: '))\n",
    "    r = str(input('email: '))\n",
    "    \n",
    "    dic['nombre'] = x              #los valores que se guardaron en las variables \n",
    "    dic['programacion'] = y         #se agregan a las claves del diccionario\n",
    "    dic['base de datos'] = z\n",
    "    dic['genero'] = w\n",
    "    dic['edad'] = t\n",
    "    dic['beca'] = u\n",
    "    dic['domicilio'] = v\n",
    "    dic['celular'] = p\n",
    "    dic['email'] = r\n",
    "\n",
    "    lista.append(dic)            #se agrega en diccionario en la lista\n",
    "\n",
    "print('esta es la lista de los estudiantes que agrego: {} '.format(lista))        #imprime la lista final\n",
    "    \n",
    "    #variables\n",
    "    #diccionario\n",
    "    #lista\n",
    "    "
   ]
  },
  {
   "cell_type": "code",
   "execution_count": null,
   "id": "55183f3f",
   "metadata": {},
   "outputs": [],
   "source": []
  },
  {
   "cell_type": "code",
   "execution_count": null,
   "id": "70717d1c",
   "metadata": {},
   "outputs": [],
   "source": []
  }
 ],
 "metadata": {
  "kernelspec": {
   "display_name": "Python 3 (ipykernel)",
   "language": "python",
   "name": "python3"
  },
  "language_info": {
   "codemirror_mode": {
    "name": "ipython",
    "version": 3
   },
   "file_extension": ".py",
   "mimetype": "text/x-python",
   "name": "python",
   "nbconvert_exporter": "python",
   "pygments_lexer": "ipython3",
   "version": "3.11.4"
  }
 },
 "nbformat": 4,
 "nbformat_minor": 5
}
