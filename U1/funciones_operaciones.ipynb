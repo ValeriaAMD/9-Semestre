{
 "cells": [
  {
   "cell_type": "code",
   "execution_count": null,
   "id": "4674a5ce",
   "metadata": {},
   "outputs": [],
   "source": []
  },
  {
   "cell_type": "code",
   "execution_count": 1,
   "id": "30fea1fd",
   "metadata": {},
   "outputs": [],
   "source": [
    "#las funciones son modulos que nos permiten contener algoritmos.\n",
    "#Enfocados a tareas especificas dentro de un algoritmo principal.\n",
    "#Las pruebas unitarias, prueban cada funcion de un codigo."
   ]
  },
  {
   "cell_type": "code",
   "execution_count": null,
   "id": "236f9417",
   "metadata": {},
   "outputs": [],
   "source": []
  },
  {
   "cell_type": "code",
   "execution_count": 2,
   "id": "271eb336",
   "metadata": {},
   "outputs": [],
   "source": [
    "def suma(n1,n2):   #se definde una funcion y los parametros que va a utilizar\n",
    "    return n1 + n2"
   ]
  },
  {
   "cell_type": "code",
   "execution_count": 3,
   "id": "b64e6d8c",
   "metadata": {},
   "outputs": [
    {
     "data": {
      "text/plain": [
       "8"
      ]
     },
     "execution_count": 3,
     "metadata": {},
     "output_type": "execute_result"
    }
   ],
   "source": [
    "suma (4,4)"
   ]
  },
  {
   "cell_type": "code",
   "execution_count": 6,
   "id": "357c3d06",
   "metadata": {},
   "outputs": [],
   "source": [
    "def resta(n3,n4):  \n",
    "    return n3 - n4"
   ]
  },
  {
   "cell_type": "code",
   "execution_count": 7,
   "id": "f50c7b2f",
   "metadata": {},
   "outputs": [
    {
     "data": {
      "text/plain": [
       "-1"
      ]
     },
     "execution_count": 7,
     "metadata": {},
     "output_type": "execute_result"
    }
   ],
   "source": [
    "resta(5,6)"
   ]
  },
  {
   "cell_type": "raw",
   "id": "e541d519",
   "metadata": {},
   "source": []
  },
  {
   "cell_type": "code",
   "execution_count": 9,
   "id": "06cf66af",
   "metadata": {},
   "outputs": [],
   "source": [
    "def triangulo(base,altura):    #funcion\n",
    "    res=base*altura           #contenido\n",
    "    return res/2 "
   ]
  },
  {
   "cell_type": "code",
   "execution_count": 10,
   "id": "50d09703",
   "metadata": {},
   "outputs": [
    {
     "data": {
      "text/plain": [
       "36.0"
      ]
     },
     "execution_count": 10,
     "metadata": {},
     "output_type": "execute_result"
    }
   ],
   "source": [
    "triangulo(8,9)"
   ]
  },
  {
   "cell_type": "code",
   "execution_count": 11,
   "id": "52d8f4df",
   "metadata": {},
   "outputs": [],
   "source": [
    "import pandas as pd #es una libreria que abre archivos estilo excel"
   ]
  },
  {
   "cell_type": "code",
   "execution_count": null,
   "id": "c0cb8f6c",
   "metadata": {},
   "outputs": [],
   "source": [
    "df = pd.DataFrame()"
   ]
  }
 ],
 "metadata": {
  "kernelspec": {
   "display_name": "Python 3 (ipykernel)",
   "language": "python",
   "name": "python3"
  },
  "language_info": {
   "codemirror_mode": {
    "name": "ipython",
    "version": 3
   },
   "file_extension": ".py",
   "mimetype": "text/x-python",
   "name": "python",
   "nbconvert_exporter": "python",
   "pygments_lexer": "ipython3",
   "version": "3.11.4"
  }
 },
 "nbformat": 4,
 "nbformat_minor": 5
}
