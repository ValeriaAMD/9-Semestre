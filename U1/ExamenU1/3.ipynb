{
 "cells": [
  {
   "cell_type": "code",
   "execution_count": 1,
   "id": "1b95c2b7",
   "metadata": {},
   "outputs": [],
   "source": [
    "#    1.\tElabora un script para trabajar con las siguientes listas (8)\n",
    " #   a.\tLista1 = [25,30,60,47,89]\n",
    "  #  b.\tLista2 = [‘Hola’,’Mundo’,’Script’,’Python’]\n",
    "#    c.\tLista3 = [25,36.8,True,’Examen’]\n",
    " #   d.\tAnidar la lista1 con la lista2 en una lista nueva\n",
    "  #  e.\tEliminar la palabra Script de a lista2\n",
    " #   f.\tAgregar el numro 45 al final de la lista1 \n",
    "#    g.\tAgregar un False en la lista3 antes del elemento True"
   ]
  },
  {
   "cell_type": "code",
   "execution_count": 3,
   "id": "30d77c2f",
   "metadata": {},
   "outputs": [],
   "source": [
    "lista1 = [25,30,60,47,89]"
   ]
  },
  {
   "cell_type": "code",
   "execution_count": 4,
   "id": "a9227c30",
   "metadata": {},
   "outputs": [],
   "source": [
    "lista2 = ['hola','mundo','script','python']"
   ]
  },
  {
   "cell_type": "code",
   "execution_count": 20,
   "id": "8eae25e0",
   "metadata": {},
   "outputs": [],
   "source": [
    "lista3 = [25,36.8,True,'examen']"
   ]
  },
  {
   "cell_type": "code",
   "execution_count": 8,
   "id": "228c68fc",
   "metadata": {},
   "outputs": [],
   "source": [
    "lista4 = [[25,30,60,47,89],['hola','mundo','script','python']]"
   ]
  },
  {
   "cell_type": "code",
   "execution_count": 10,
   "id": "5d0720df",
   "metadata": {},
   "outputs": [
    {
     "data": {
      "text/plain": [
       "'script'"
      ]
     },
     "execution_count": 10,
     "metadata": {},
     "output_type": "execute_result"
    }
   ],
   "source": [
    "lista2.pop(2)"
   ]
  },
  {
   "cell_type": "code",
   "execution_count": 11,
   "id": "e6330ee3",
   "metadata": {},
   "outputs": [],
   "source": [
    "lista1.append(45)"
   ]
  },
  {
   "cell_type": "code",
   "execution_count": 12,
   "id": "08c55f29",
   "metadata": {},
   "outputs": [
    {
     "data": {
      "text/plain": [
       "[25, 30, 60, 47, 89, 45]"
      ]
     },
     "execution_count": 12,
     "metadata": {},
     "output_type": "execute_result"
    }
   ],
   "source": [
    "lista1"
   ]
  },
  {
   "cell_type": "code",
   "execution_count": 22,
   "id": "e9af941f",
   "metadata": {},
   "outputs": [],
   "source": [
    "lista3.insert(2,False)"
   ]
  },
  {
   "cell_type": "code",
   "execution_count": 23,
   "id": "d7e2fa39",
   "metadata": {},
   "outputs": [
    {
     "data": {
      "text/plain": [
       "[25, 36.8, False, True, 'examen']"
      ]
     },
     "execution_count": 23,
     "metadata": {},
     "output_type": "execute_result"
    }
   ],
   "source": [
    "lista3"
   ]
  },
  {
   "cell_type": "code",
   "execution_count": 5,
   "id": "d0e709cd",
   "metadata": {},
   "outputs": [],
   "source": [
    "lista5=[lista1+lista2]"
   ]
  },
  {
   "cell_type": "code",
   "execution_count": 6,
   "id": "199f7375",
   "metadata": {},
   "outputs": [
    {
     "data": {
      "text/plain": [
       "[[25, 30, 60, 47, 89, 'hola', 'mundo', 'script', 'python']]"
      ]
     },
     "execution_count": 6,
     "metadata": {},
     "output_type": "execute_result"
    }
   ],
   "source": [
    "lista5"
   ]
  },
  {
   "cell_type": "code",
   "execution_count": null,
   "id": "6ffb3211",
   "metadata": {},
   "outputs": [],
   "source": []
  }
 ],
 "metadata": {
  "kernelspec": {
   "display_name": "Python 3 (ipykernel)",
   "language": "python",
   "name": "python3"
  },
  "language_info": {
   "codemirror_mode": {
    "name": "ipython",
    "version": 3
   },
   "file_extension": ".py",
   "mimetype": "text/x-python",
   "name": "python",
   "nbconvert_exporter": "python",
   "pygments_lexer": "ipython3",
   "version": "3.11.4"
  }
 },
 "nbformat": 4,
 "nbformat_minor": 5
}
