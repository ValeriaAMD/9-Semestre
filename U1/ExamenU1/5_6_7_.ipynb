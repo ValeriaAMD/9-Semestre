{
 "cells": [
  {
   "cell_type": "code",
   "execution_count": 1,
   "id": "03666039",
   "metadata": {},
   "outputs": [],
   "source": [
    "# 5.\tCrear un script que haga la suma de dos números ingresados por el \n",
    "# usuario, y no salga del script mientras el usuario quiera seguir sumando "
   ]
  },
  {
   "cell_type": "code",
   "execution_count": 30,
   "id": "65fd69da",
   "metadata": {},
   "outputs": [
    {
     "name": "stdout",
     "output_type": "stream",
     "text": [
      "ingrese el numero 1 para la suma: 4\n",
      "ingrese el numero 2: 5\n",
      "el resultado de la suma es:  9\n",
      "desea seguir sumando? (s/n): s\n",
      "ingrese el numero 1 para la suma: 7\n",
      "ingrese el numero 2: 8\n",
      "el resultado de la suma es:  15\n",
      "desea seguir sumando? (s/n): n\n"
     ]
    }
   ],
   "source": [
    "while True:\n",
    "    z = int(input('ingrese el numero 1 para la suma: '))\n",
    "    y = int(input('ingrese el numero 2: '))\n",
    "    suma = z + y\n",
    "    print('el resultado de la suma es: ',suma)\n",
    "    continuar = input('desea seguir sumando? (s/n): ')\n",
    "    if continuar.lower() !='s':\n",
    "        break"
   ]
  },
  {
   "cell_type": "code",
   "execution_count": 6,
   "id": "69944470",
   "metadata": {},
   "outputs": [],
   "source": [
    "# 6.-Crear un script que encuentre el mayor de 5 numeros, los números serán (2,6,8,3,7) \n",
    "# en la revisión los valores serán cambiados para revisión, estos números deben estar \n",
    "# declarados como variables (no ingresados por el usuario) "
   ]
  },
  {
   "cell_type": "code",
   "execution_count": 25,
   "id": "e39198f8",
   "metadata": {},
   "outputs": [],
   "source": [
    "a = 2\n",
    "b = 6\n",
    "c = 8\n",
    "d = 3\n",
    "e = 7"
   ]
  },
  {
   "cell_type": "code",
   "execution_count": 26,
   "id": "4e8b8390",
   "metadata": {},
   "outputs": [
    {
     "name": "stdout",
     "output_type": "stream",
     "text": [
      "el mayor es c:8\n"
     ]
    }
   ],
   "source": [
    "if a>=b and a>=c and a>=d and a>=e:\n",
    "    print('el mayor es a:{}'.format(a))\n",
    "elif b>=a and b>=c and b>=d and b>=e:\n",
    "    print('el mayor es b:{}'.format(b))\n",
    "elif c>=a and c>=b and c>=d and c>=e:\n",
    "    print('el mayor es c:{}'.format(c))\n",
    "elif d>=a and d>=b and d>=c and d>=e:\n",
    "    print('el amyor es d:{}'.format(d))\n",
    "elif e>=a and e>=b and e>=c and e>=d:\n",
    "    print('el mayor es e:{}'.format(e))"
   ]
  },
  {
   "cell_type": "code",
   "execution_count": 27,
   "id": "bdfd2d7f",
   "metadata": {},
   "outputs": [],
   "source": [
    "# 7.\tCrear una función, la cual de entrada tendrá un string, que convertirá a mayúsculas y retornará el resultado "
   ]
  },
  {
   "cell_type": "code",
   "execution_count": 32,
   "id": "c2da6591",
   "metadata": {},
   "outputs": [
    {
     "name": "stdout",
     "output_type": "stream",
     "text": [
      "TEXTITO\n"
     ]
    }
   ],
   "source": [
    "def conv(texto):\n",
    "    tmay = texto.upper()\n",
    "    return tmay\n",
    "tex = 'textito'\n",
    "res = conv(tex)\n",
    "print(res)"
   ]
  },
  {
   "cell_type": "code",
   "execution_count": null,
   "id": "40aaaa56",
   "metadata": {},
   "outputs": [],
   "source": []
  }
 ],
 "metadata": {
  "kernelspec": {
   "display_name": "Python 3 (ipykernel)",
   "language": "python",
   "name": "python3"
  },
  "language_info": {
   "codemirror_mode": {
    "name": "ipython",
    "version": 3
   },
   "file_extension": ".py",
   "mimetype": "text/x-python",
   "name": "python",
   "nbconvert_exporter": "python",
   "pygments_lexer": "ipython3",
   "version": "3.11.4"
  }
 },
 "nbformat": 4,
 "nbformat_minor": 5
}
