{
 "cells": [
  {
   "cell_type": "code",
   "execution_count": 1,
   "id": "558b7c32",
   "metadata": {},
   "outputs": [],
   "source": [
    "# 4.\tCrea un diccionario para cada persona que contenga los siguientes datos, \n",
    "# tomando los nombres de las columnas como la clave y los valores de cada persona \n",
    "# como el valor para cada clave, en total deberán ser 4 diccionarios "
   ]
  },
  {
   "cell_type": "code",
   "execution_count": 3,
   "id": "2b770e54",
   "metadata": {},
   "outputs": [],
   "source": [
    "di1={'nombre':'jorge',\n",
    "    'edad': 18,\n",
    "    'estatura': 1.85,\n",
    "    'peso': 70}"
   ]
  },
  {
   "cell_type": "code",
   "execution_count": 5,
   "id": "80dd602a",
   "metadata": {},
   "outputs": [],
   "source": [
    "di2={'nombre':'claudia',\n",
    "    'edad': 25,\n",
    "    'estatura': 1.50,\n",
    "    'peso': 61}"
   ]
  },
  {
   "cell_type": "code",
   "execution_count": 6,
   "id": "0736725c",
   "metadata": {},
   "outputs": [],
   "source": [
    "di3={'nombre':'juan',\n",
    "    'edad': 32,\n",
    "    'estatura': 1.70,\n",
    "    'peso': 89}"
   ]
  },
  {
   "cell_type": "code",
   "execution_count": 7,
   "id": "8dd11071",
   "metadata": {},
   "outputs": [],
   "source": [
    "di4={'nombre':'maria',\n",
    "    'edad': 70,\n",
    "    'estatura': 1.65,\n",
    "    'peso': 69}"
   ]
  },
  {
   "cell_type": "code",
   "execution_count": null,
   "id": "20560806",
   "metadata": {},
   "outputs": [],
   "source": []
  },
  {
   "cell_type": "code",
   "execution_count": null,
   "id": "5b71ebd5",
   "metadata": {},
   "outputs": [],
   "source": []
  }
 ],
 "metadata": {
  "kernelspec": {
   "display_name": "Python 3 (ipykernel)",
   "language": "python",
   "name": "python3"
  },
  "language_info": {
   "codemirror_mode": {
    "name": "ipython",
    "version": 3
   },
   "file_extension": ".py",
   "mimetype": "text/x-python",
   "name": "python",
   "nbconvert_exporter": "python",
   "pygments_lexer": "ipython3",
   "version": "3.11.4"
  }
 },
 "nbformat": 4,
 "nbformat_minor": 5
}
