{
 "cells": [
  {
   "cell_type": "code",
   "execution_count": 2,
   "id": "62347fa3",
   "metadata": {},
   "outputs": [],
   "source": [
    "import pandas as pd\n",
    "import matplotlib as plt   #las librerias se tienen que importar cada que haga un nuevo codigo\n",
    "import numpy as np"
   ]
  },
  {
   "cell_type": "code",
   "execution_count": 3,
   "id": "9b7fb82e",
   "metadata": {},
   "outputs": [],
   "source": [
    "alumnos = pd.read_csv(r'C:\\Users\\caroc\\Untitled Folder\\datostic.csv')"
   ]
  },
  {
   "cell_type": "code",
   "execution_count": 4,
   "id": "75909b13",
   "metadata": {},
   "outputs": [
    {
     "data": {
      "text/html": [
       "<div>\n",
       "<style scoped>\n",
       "    .dataframe tbody tr th:only-of-type {\n",
       "        vertical-align: middle;\n",
       "    }\n",
       "\n",
       "    .dataframe tbody tr th {\n",
       "        vertical-align: top;\n",
       "    }\n",
       "\n",
       "    .dataframe thead th {\n",
       "        text-align: right;\n",
       "    }\n",
       "</style>\n",
       "<table border=\"1\" class=\"dataframe\">\n",
       "  <thead>\n",
       "    <tr style=\"text-align: right;\">\n",
       "      <th></th>\n",
       "      <th>nombre</th>\n",
       "      <th>edad</th>\n",
       "      <th>grupo</th>\n",
       "      <th>telefono</th>\n",
       "    </tr>\n",
       "  </thead>\n",
       "  <tbody>\n",
       "    <tr>\n",
       "      <th>0</th>\n",
       "      <td>tomas</td>\n",
       "      <td>22</td>\n",
       "      <td>tis9</td>\n",
       "      <td>4651227984</td>\n",
       "    </tr>\n",
       "    <tr>\n",
       "      <th>1</th>\n",
       "      <td>mario</td>\n",
       "      <td>22</td>\n",
       "      <td>tics9</td>\n",
       "      <td>4492904374</td>\n",
       "    </tr>\n",
       "    <tr>\n",
       "      <th>2</th>\n",
       "      <td>valeria</td>\n",
       "      <td>21</td>\n",
       "      <td>tics9</td>\n",
       "      <td>4651190280</td>\n",
       "    </tr>\n",
       "    <tr>\n",
       "      <th>3</th>\n",
       "      <td>karla</td>\n",
       "      <td>22</td>\n",
       "      <td>tics9</td>\n",
       "      <td>4651163338</td>\n",
       "    </tr>\n",
       "  </tbody>\n",
       "</table>\n",
       "</div>"
      ],
      "text/plain": [
       "     nombre  edad  grupo    telefono\n",
       "0     tomas    22   tis9  4651227984\n",
       "1     mario    22  tics9  4492904374\n",
       "2  valeria     21  tics9  4651190280\n",
       "3     karla    22  tics9  4651163338"
      ]
     },
     "execution_count": 4,
     "metadata": {},
     "output_type": "execute_result"
    }
   ],
   "source": [
    "alumnos"
   ]
  },
  {
   "cell_type": "code",
   "execution_count": 5,
   "id": "077a076d",
   "metadata": {},
   "outputs": [],
   "source": [
    "edad = alumnos.iloc[2,1]"
   ]
  },
  {
   "cell_type": "code",
   "execution_count": 6,
   "id": "520212ea",
   "metadata": {},
   "outputs": [
    {
     "data": {
      "text/plain": [
       "21"
      ]
     },
     "execution_count": 6,
     "metadata": {},
     "output_type": "execute_result"
    }
   ],
   "source": [
    "edad"
   ]
  },
  {
   "cell_type": "code",
   "execution_count": 7,
   "id": "f3ebfaa0",
   "metadata": {},
   "outputs": [],
   "source": [
    "edad = alumnos.iloc[2]  #si no selecciona una columna, se mostraran todos los datos de la fila"
   ]
  },
  {
   "cell_type": "code",
   "execution_count": 8,
   "id": "1032679a",
   "metadata": {},
   "outputs": [
    {
     "data": {
      "text/plain": [
       "nombre        valeria \n",
       "edad                21\n",
       "grupo            tics9\n",
       "telefono    4651190280\n",
       "Name: 2, dtype: object"
      ]
     },
     "execution_count": 8,
     "metadata": {},
     "output_type": "execute_result"
    }
   ],
   "source": [
    "edad"
   ]
  },
  {
   "cell_type": "code",
   "execution_count": 9,
   "id": "8ef538ac",
   "metadata": {},
   "outputs": [],
   "source": [
    "lista = alumnos['nombre'] #guarda en una lista la columna de nombres"
   ]
  },
  {
   "cell_type": "code",
   "execution_count": 10,
   "id": "8250b629",
   "metadata": {},
   "outputs": [
    {
     "data": {
      "text/plain": [
       "0       tomas\n",
       "1       mario\n",
       "2    valeria \n",
       "3       karla\n",
       "Name: nombre, dtype: object"
      ]
     },
     "execution_count": 10,
     "metadata": {},
     "output_type": "execute_result"
    }
   ],
   "source": [
    "lista"
   ]
  },
  {
   "cell_type": "code",
   "execution_count": 81,
   "id": "314ab44e",
   "metadata": {},
   "outputs": [],
   "source": [
    "matriz = pd.read_csv(r'C:\\Users\\caroc\\Untitled Folder\\matriz1.csv')"
   ]
  },
  {
   "cell_type": "code",
   "execution_count": 82,
   "id": "72eeb88c",
   "metadata": {},
   "outputs": [
    {
     "data": {
      "text/html": [
       "<div>\n",
       "<style scoped>\n",
       "    .dataframe tbody tr th:only-of-type {\n",
       "        vertical-align: middle;\n",
       "    }\n",
       "\n",
       "    .dataframe tbody tr th {\n",
       "        vertical-align: top;\n",
       "    }\n",
       "\n",
       "    .dataframe thead th {\n",
       "        text-align: right;\n",
       "    }\n",
       "</style>\n",
       "<table border=\"1\" class=\"dataframe\">\n",
       "  <thead>\n",
       "    <tr style=\"text-align: right;\">\n",
       "      <th></th>\n",
       "      <th>1</th>\n",
       "      <th>2</th>\n",
       "      <th>3</th>\n",
       "      <th>4</th>\n",
       "    </tr>\n",
       "  </thead>\n",
       "  <tbody>\n",
       "    <tr>\n",
       "      <th>0</th>\n",
       "      <td>2</td>\n",
       "      <td>3</td>\n",
       "      <td>-1</td>\n",
       "      <td>8</td>\n",
       "    </tr>\n",
       "    <tr>\n",
       "      <th>1</th>\n",
       "      <td>4</td>\n",
       "      <td>1</td>\n",
       "      <td>2</td>\n",
       "      <td>6</td>\n",
       "    </tr>\n",
       "    <tr>\n",
       "      <th>2</th>\n",
       "      <td>3</td>\n",
       "      <td>2</td>\n",
       "      <td>3</td>\n",
       "      <td>11</td>\n",
       "    </tr>\n",
       "  </tbody>\n",
       "</table>\n",
       "</div>"
      ],
      "text/plain": [
       "   1  2  3   4\n",
       "0  2  3 -1   8\n",
       "1  4  1  2   6\n",
       "2  3  2  3  11"
      ]
     },
     "execution_count": 82,
     "metadata": {},
     "output_type": "execute_result"
    }
   ],
   "source": [
    "matriz"
   ]
  },
  {
   "cell_type": "code",
   "execution_count": 83,
   "id": "6ae92cbf",
   "metadata": {},
   "outputs": [],
   "source": [
    "col1 = matriz.iloc[0,0]"
   ]
  },
  {
   "cell_type": "code",
   "execution_count": 84,
   "id": "e2875e33",
   "metadata": {},
   "outputs": [
    {
     "data": {
      "text/plain": [
       "2"
      ]
     },
     "execution_count": 84,
     "metadata": {},
     "output_type": "execute_result"
    }
   ],
   "source": [
    "col1"
   ]
  },
  {
   "cell_type": "code",
   "execution_count": 85,
   "id": "9a056a04",
   "metadata": {},
   "outputs": [],
   "source": [
    "col2 = matriz.iloc[1,1]"
   ]
  },
  {
   "cell_type": "code",
   "execution_count": 86,
   "id": "91b71405",
   "metadata": {},
   "outputs": [
    {
     "data": {
      "text/plain": [
       "1"
      ]
     },
     "execution_count": 86,
     "metadata": {},
     "output_type": "execute_result"
    }
   ],
   "source": [
    "col2"
   ]
  },
  {
   "cell_type": "code",
   "execution_count": 87,
   "id": "11dc22df",
   "metadata": {},
   "outputs": [],
   "source": [
    "col3 = matriz.iloc[2,2]"
   ]
  },
  {
   "cell_type": "code",
   "execution_count": 88,
   "id": "9ea7cfdc",
   "metadata": {},
   "outputs": [
    {
     "data": {
      "text/plain": [
       "3"
      ]
     },
     "execution_count": 88,
     "metadata": {},
     "output_type": "execute_result"
    }
   ],
   "source": [
    "col3"
   ]
  },
  {
   "cell_type": "code",
   "execution_count": 89,
   "id": "b2521923",
   "metadata": {},
   "outputs": [],
   "source": [
    "x= col1 / 4"
   ]
  },
  {
   "cell_type": "code",
   "execution_count": 90,
   "id": "819574ba",
   "metadata": {},
   "outputs": [
    {
     "data": {
      "text/plain": [
       "0.5"
      ]
     },
     "execution_count": 90,
     "metadata": {},
     "output_type": "execute_result"
    }
   ],
   "source": [
    "x"
   ]
  },
  {
   "cell_type": "code",
   "execution_count": 91,
   "id": "2cf8186b",
   "metadata": {},
   "outputs": [],
   "source": [
    "fila1= matriz.iloc[0]"
   ]
  },
  {
   "cell_type": "code",
   "execution_count": 92,
   "id": "06729f9d",
   "metadata": {},
   "outputs": [
    {
     "data": {
      "text/plain": [
       "1    2\n",
       "2    3\n",
       "3   -1\n",
       "4    8\n",
       "Name: 0, dtype: int64"
      ]
     },
     "execution_count": 92,
     "metadata": {},
     "output_type": "execute_result"
    }
   ],
   "source": [
    "fila1"
   ]
  },
  {
   "cell_type": "code",
   "execution_count": 93,
   "id": "97f24211",
   "metadata": {},
   "outputs": [
    {
     "data": {
      "text/plain": [
       "1    1.0\n",
       "2    1.5\n",
       "3   -0.5\n",
       "4    4.0\n",
       "Name: 0, dtype: float64"
      ]
     },
     "execution_count": 93,
     "metadata": {},
     "output_type": "execute_result"
    }
   ],
   "source": [
    "fila1 * x"
   ]
  },
  {
   "cell_type": "code",
   "execution_count": 72,
   "id": "facb80c5",
   "metadata": {},
   "outputs": [],
   "source": [
    "y = col2 /\n",
    "\n",
    "4"
   ]
  },
  {
   "cell_type": "code",
   "execution_count": 73,
   "id": "d28cd837",
   "metadata": {},
   "outputs": [
    {
     "data": {
      "text/plain": [
       "-0.25"
      ]
     },
     "execution_count": 73,
     "metadata": {},
     "output_type": "execute_result"
    }
   ],
   "source": [
    "y"
   ]
  },
  {
   "cell_type": "code",
   "execution_count": 74,
   "id": "de053e0b",
   "metadata": {},
   "outputs": [],
   "source": [
    "fila2= matriz.iloc[1]"
   ]
  },
  {
   "cell_type": "code",
   "execution_count": 75,
   "id": "7b27c3dc",
   "metadata": {},
   "outputs": [
    {
     "data": {
      "text/plain": [
       "1    4\n",
       "2   -1\n",
       "3    2\n",
       "4   -2\n",
       "Name: 1, dtype: int64"
      ]
     },
     "execution_count": 75,
     "metadata": {},
     "output_type": "execute_result"
    }
   ],
   "source": [
    "fila2"
   ]
  },
  {
   "cell_type": "code",
   "execution_count": 76,
   "id": "c3f0ca77",
   "metadata": {},
   "outputs": [
    {
     "data": {
      "text/plain": [
       "1   -16.0\n",
       "2     4.0\n",
       "3    -8.0\n",
       "4     8.0\n",
       "Name: 1, dtype: float64"
      ]
     },
     "execution_count": 76,
     "metadata": {},
     "output_type": "execute_result"
    }
   ],
   "source": [
    "fila2  y"
   ]
  },
  {
   "cell_type": "code",
   "execution_count": 52,
   "id": "5b97b9cc",
   "metadata": {},
   "outputs": [],
   "source": [
    "fila3= matriz.iloc[2]"
   ]
  },
  {
   "cell_type": "code",
   "execution_count": 53,
   "id": "3dc17f59",
   "metadata": {},
   "outputs": [
    {
     "data": {
      "text/plain": [
       "1   -1\n",
       "2    2\n",
       "3    3\n",
       "4    3\n",
       "Name: 2, dtype: int64"
      ]
     },
     "execution_count": 53,
     "metadata": {},
     "output_type": "execute_result"
    }
   ],
   "source": [
    "fila3"
   ]
  },
  {
   "cell_type": "code",
   "execution_count": 58,
   "id": "4ee0c071",
   "metadata": {},
   "outputs": [],
   "source": [
    "z = col3 / 3 "
   ]
  },
  {
   "cell_type": "code",
   "execution_count": 59,
   "id": "72f733fd",
   "metadata": {},
   "outputs": [
    {
     "data": {
      "text/plain": [
       "1.0"
      ]
     },
     "execution_count": 59,
     "metadata": {},
     "output_type": "execute_result"
    }
   ],
   "source": [
    "z"
   ]
  },
  {
   "cell_type": "code",
   "execution_count": 61,
   "id": "8e5101ef",
   "metadata": {},
   "outputs": [
    {
     "data": {
      "text/plain": [
       "1   -0.333333\n",
       "2    0.666667\n",
       "3    1.000000\n",
       "4    1.000000\n",
       "Name: 2, dtype: float64"
      ]
     },
     "execution_count": 61,
     "metadata": {},
     "output_type": "execute_result"
    }
   ],
   "source": [
    "fila3 / 3"
   ]
  },
  {
   "cell_type": "code",
   "execution_count": 77,
   "id": "50646275",
   "metadata": {},
   "outputs": [],
   "source": [
    "#para evitar ir de uno por uno se hace un ciclo for "
   ]
  },
  {
   "cell_type": "code",
   "execution_count": 78,
   "id": "41274625",
   "metadata": {},
   "outputs": [],
   "source": [
    "#convercion a 1 "
   ]
  },
  {
   "cell_type": "code",
   "execution_count": null,
   "id": "0a537642",
   "metadata": {},
   "outputs": [],
   "source": []
  },
  {
   "cell_type": "code",
   "execution_count": null,
   "id": "c67292c6",
   "metadata": {},
   "outputs": [],
   "source": []
  },
  {
   "cell_type": "code",
   "execution_count": null,
   "id": "8440364e",
   "metadata": {},
   "outputs": [],
   "source": []
  }
 ],
 "metadata": {
  "kernelspec": {
   "display_name": "Python 3 (ipykernel)",
   "language": "python",
   "name": "python3"
  },
  "language_info": {
   "codemirror_mode": {
    "name": "ipython",
    "version": 3
   },
   "file_extension": ".py",
   "mimetype": "text/x-python",
   "name": "python",
   "nbconvert_exporter": "python",
   "pygments_lexer": "ipython3",
   "version": "3.11.4"
  }
 },
 "nbformat": 4,
 "nbformat_minor": 5
}
